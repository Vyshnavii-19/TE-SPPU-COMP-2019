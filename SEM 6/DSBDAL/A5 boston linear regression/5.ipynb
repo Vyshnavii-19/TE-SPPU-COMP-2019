{
 "cells": [
  {
   "cell_type": "code",
   "execution_count": 38,
   "metadata": {
    "id": "50L08xONUHzP"
   },
   "outputs": [],
   "source": [
    "import pandas as pd\n",
    "import numpy as np\n",
    "import matplotlib.pyplot as plt\n",
    "import seaborn as sns"
   ]
  },
  {
   "cell_type": "code",
   "execution_count": 39,
   "metadata": {
    "id": "W9dg-1TnU-Qz"
   },
   "outputs": [],
   "source": [
    "df = pd.read_csv(\"Boston.csv\")"
   ]
  },
  {
   "cell_type": "code",
   "execution_count": 40,
   "metadata": {
    "colab": {
     "base_uri": "https://localhost:8080/",
     "height": 206
    },
    "id": "LxFl02gIVrpK",
    "outputId": "8e39e8a9-9426-4631-a8e1-5b9e9c5bed19"
   },
   "outputs": [
    {
     "data": {
      "text/html": [
       "<div>\n",
       "<style scoped>\n",
       "    .dataframe tbody tr th:only-of-type {\n",
       "        vertical-align: middle;\n",
       "    }\n",
       "\n",
       "    .dataframe tbody tr th {\n",
       "        vertical-align: top;\n",
       "    }\n",
       "\n",
       "    .dataframe thead th {\n",
       "        text-align: right;\n",
       "    }\n",
       "</style>\n",
       "<table border=\"1\" class=\"dataframe\">\n",
       "  <thead>\n",
       "    <tr style=\"text-align: right;\">\n",
       "      <th></th>\n",
       "      <th>CRIM</th>\n",
       "      <th>ZN</th>\n",
       "      <th>INDUS</th>\n",
       "      <th>CHAS</th>\n",
       "      <th>NOX</th>\n",
       "      <th>RM</th>\n",
       "      <th>AGE</th>\n",
       "      <th>DIS</th>\n",
       "      <th>RAD</th>\n",
       "      <th>TAX</th>\n",
       "      <th>PTRATIO</th>\n",
       "      <th>BLACK</th>\n",
       "      <th>LSTAT</th>\n",
       "      <th>MEDV</th>\n",
       "    </tr>\n",
       "  </thead>\n",
       "  <tbody>\n",
       "    <tr>\n",
       "      <th>0</th>\n",
       "      <td>0.00632</td>\n",
       "      <td>18.0</td>\n",
       "      <td>2.31</td>\n",
       "      <td>0</td>\n",
       "      <td>0.538</td>\n",
       "      <td>6.575</td>\n",
       "      <td>65.2</td>\n",
       "      <td>4.0900</td>\n",
       "      <td>1</td>\n",
       "      <td>296.0</td>\n",
       "      <td>15.3</td>\n",
       "      <td>396.90</td>\n",
       "      <td>4.98</td>\n",
       "      <td>24.0</td>\n",
       "    </tr>\n",
       "    <tr>\n",
       "      <th>1</th>\n",
       "      <td>0.02731</td>\n",
       "      <td>0.0</td>\n",
       "      <td>7.07</td>\n",
       "      <td>0</td>\n",
       "      <td>0.469</td>\n",
       "      <td>6.421</td>\n",
       "      <td>78.9</td>\n",
       "      <td>4.9671</td>\n",
       "      <td>2</td>\n",
       "      <td>242.0</td>\n",
       "      <td>17.8</td>\n",
       "      <td>396.90</td>\n",
       "      <td>9.14</td>\n",
       "      <td>21.6</td>\n",
       "    </tr>\n",
       "    <tr>\n",
       "      <th>2</th>\n",
       "      <td>0.02729</td>\n",
       "      <td>0.0</td>\n",
       "      <td>7.07</td>\n",
       "      <td>0</td>\n",
       "      <td>0.469</td>\n",
       "      <td>7.185</td>\n",
       "      <td>61.1</td>\n",
       "      <td>4.9671</td>\n",
       "      <td>2</td>\n",
       "      <td>242.0</td>\n",
       "      <td>17.8</td>\n",
       "      <td>392.83</td>\n",
       "      <td>4.03</td>\n",
       "      <td>34.7</td>\n",
       "    </tr>\n",
       "    <tr>\n",
       "      <th>3</th>\n",
       "      <td>0.03237</td>\n",
       "      <td>0.0</td>\n",
       "      <td>2.18</td>\n",
       "      <td>0</td>\n",
       "      <td>0.458</td>\n",
       "      <td>6.998</td>\n",
       "      <td>45.8</td>\n",
       "      <td>6.0622</td>\n",
       "      <td>3</td>\n",
       "      <td>222.0</td>\n",
       "      <td>18.7</td>\n",
       "      <td>394.63</td>\n",
       "      <td>2.94</td>\n",
       "      <td>33.4</td>\n",
       "    </tr>\n",
       "    <tr>\n",
       "      <th>4</th>\n",
       "      <td>0.06905</td>\n",
       "      <td>0.0</td>\n",
       "      <td>2.18</td>\n",
       "      <td>0</td>\n",
       "      <td>0.458</td>\n",
       "      <td>7.147</td>\n",
       "      <td>54.2</td>\n",
       "      <td>6.0622</td>\n",
       "      <td>3</td>\n",
       "      <td>222.0</td>\n",
       "      <td>18.7</td>\n",
       "      <td>396.90</td>\n",
       "      <td>5.33</td>\n",
       "      <td>36.2</td>\n",
       "    </tr>\n",
       "  </tbody>\n",
       "</table>\n",
       "</div>"
      ],
      "text/plain": [
       "      CRIM    ZN  INDUS  CHAS    NOX     RM   AGE     DIS  RAD    TAX   \n",
       "0  0.00632  18.0   2.31     0  0.538  6.575  65.2  4.0900    1  296.0  \\\n",
       "1  0.02731   0.0   7.07     0  0.469  6.421  78.9  4.9671    2  242.0   \n",
       "2  0.02729   0.0   7.07     0  0.469  7.185  61.1  4.9671    2  242.0   \n",
       "3  0.03237   0.0   2.18     0  0.458  6.998  45.8  6.0622    3  222.0   \n",
       "4  0.06905   0.0   2.18     0  0.458  7.147  54.2  6.0622    3  222.0   \n",
       "\n",
       "   PTRATIO   BLACK  LSTAT  MEDV  \n",
       "0     15.3  396.90   4.98  24.0  \n",
       "1     17.8  396.90   9.14  21.6  \n",
       "2     17.8  392.83   4.03  34.7  \n",
       "3     18.7  394.63   2.94  33.4  \n",
       "4     18.7  396.90   5.33  36.2  "
      ]
     },
     "execution_count": 40,
     "metadata": {},
     "output_type": "execute_result"
    }
   ],
   "source": [
    "df.head()"
   ]
  },
  {
   "cell_type": "code",
   "execution_count": 41,
   "metadata": {
    "colab": {
     "base_uri": "https://localhost:8080/"
    },
    "id": "nV-a2qSWWA9x",
    "outputId": "d5707171-00a8-4186-d4e6-a42651e346e1"
   },
   "outputs": [
    {
     "data": {
      "text/plain": [
       "CRIM       0\n",
       "ZN         0\n",
       "INDUS      0\n",
       "CHAS       0\n",
       "NOX        0\n",
       "RM         0\n",
       "AGE        0\n",
       "DIS        0\n",
       "RAD        0\n",
       "TAX        0\n",
       "PTRATIO    0\n",
       "BLACK      0\n",
       "LSTAT      0\n",
       "MEDV       0\n",
       "dtype: int64"
      ]
     },
     "execution_count": 41,
     "metadata": {},
     "output_type": "execute_result"
    }
   ],
   "source": [
    "df.isna().sum()"
   ]
  },
  {
   "cell_type": "code",
   "execution_count": 42,
   "metadata": {
    "id": "l16XOHxzWHwh"
   },
   "outputs": [],
   "source": [
    "target_variables = \"MEDV\""
   ]
  },
  {
   "cell_type": "code",
   "execution_count": 43,
   "metadata": {
    "id": "vXHPIUJZWYPC"
   },
   "outputs": [],
   "source": [
    "y = df[target_variables]"
   ]
  },
  {
   "cell_type": "code",
   "execution_count": 44,
   "metadata": {
    "id": "zrsbFSFiWv1p"
   },
   "outputs": [],
   "source": [
    "x = df.drop(target_variables, axis=1)"
   ]
  },
  {
   "cell_type": "code",
   "execution_count": 45,
   "metadata": {
    "colab": {
     "base_uri": "https://localhost:8080/",
     "height": 206
    },
    "id": "0mBoLcDHXCGZ",
    "outputId": "ea09ca0f-f635-4625-f550-889f647f8871"
   },
   "outputs": [
    {
     "data": {
      "text/html": [
       "<div>\n",
       "<style scoped>\n",
       "    .dataframe tbody tr th:only-of-type {\n",
       "        vertical-align: middle;\n",
       "    }\n",
       "\n",
       "    .dataframe tbody tr th {\n",
       "        vertical-align: top;\n",
       "    }\n",
       "\n",
       "    .dataframe thead th {\n",
       "        text-align: right;\n",
       "    }\n",
       "</style>\n",
       "<table border=\"1\" class=\"dataframe\">\n",
       "  <thead>\n",
       "    <tr style=\"text-align: right;\">\n",
       "      <th></th>\n",
       "      <th>CRIM</th>\n",
       "      <th>ZN</th>\n",
       "      <th>INDUS</th>\n",
       "      <th>CHAS</th>\n",
       "      <th>NOX</th>\n",
       "      <th>RM</th>\n",
       "      <th>AGE</th>\n",
       "      <th>DIS</th>\n",
       "      <th>RAD</th>\n",
       "      <th>TAX</th>\n",
       "      <th>PTRATIO</th>\n",
       "      <th>BLACK</th>\n",
       "      <th>LSTAT</th>\n",
       "    </tr>\n",
       "  </thead>\n",
       "  <tbody>\n",
       "    <tr>\n",
       "      <th>0</th>\n",
       "      <td>0.00632</td>\n",
       "      <td>18.0</td>\n",
       "      <td>2.31</td>\n",
       "      <td>0</td>\n",
       "      <td>0.538</td>\n",
       "      <td>6.575</td>\n",
       "      <td>65.2</td>\n",
       "      <td>4.0900</td>\n",
       "      <td>1</td>\n",
       "      <td>296.0</td>\n",
       "      <td>15.3</td>\n",
       "      <td>396.90</td>\n",
       "      <td>4.98</td>\n",
       "    </tr>\n",
       "    <tr>\n",
       "      <th>1</th>\n",
       "      <td>0.02731</td>\n",
       "      <td>0.0</td>\n",
       "      <td>7.07</td>\n",
       "      <td>0</td>\n",
       "      <td>0.469</td>\n",
       "      <td>6.421</td>\n",
       "      <td>78.9</td>\n",
       "      <td>4.9671</td>\n",
       "      <td>2</td>\n",
       "      <td>242.0</td>\n",
       "      <td>17.8</td>\n",
       "      <td>396.90</td>\n",
       "      <td>9.14</td>\n",
       "    </tr>\n",
       "    <tr>\n",
       "      <th>2</th>\n",
       "      <td>0.02729</td>\n",
       "      <td>0.0</td>\n",
       "      <td>7.07</td>\n",
       "      <td>0</td>\n",
       "      <td>0.469</td>\n",
       "      <td>7.185</td>\n",
       "      <td>61.1</td>\n",
       "      <td>4.9671</td>\n",
       "      <td>2</td>\n",
       "      <td>242.0</td>\n",
       "      <td>17.8</td>\n",
       "      <td>392.83</td>\n",
       "      <td>4.03</td>\n",
       "    </tr>\n",
       "    <tr>\n",
       "      <th>3</th>\n",
       "      <td>0.03237</td>\n",
       "      <td>0.0</td>\n",
       "      <td>2.18</td>\n",
       "      <td>0</td>\n",
       "      <td>0.458</td>\n",
       "      <td>6.998</td>\n",
       "      <td>45.8</td>\n",
       "      <td>6.0622</td>\n",
       "      <td>3</td>\n",
       "      <td>222.0</td>\n",
       "      <td>18.7</td>\n",
       "      <td>394.63</td>\n",
       "      <td>2.94</td>\n",
       "    </tr>\n",
       "    <tr>\n",
       "      <th>4</th>\n",
       "      <td>0.06905</td>\n",
       "      <td>0.0</td>\n",
       "      <td>2.18</td>\n",
       "      <td>0</td>\n",
       "      <td>0.458</td>\n",
       "      <td>7.147</td>\n",
       "      <td>54.2</td>\n",
       "      <td>6.0622</td>\n",
       "      <td>3</td>\n",
       "      <td>222.0</td>\n",
       "      <td>18.7</td>\n",
       "      <td>396.90</td>\n",
       "      <td>5.33</td>\n",
       "    </tr>\n",
       "  </tbody>\n",
       "</table>\n",
       "</div>"
      ],
      "text/plain": [
       "      CRIM    ZN  INDUS  CHAS    NOX     RM   AGE     DIS  RAD    TAX   \n",
       "0  0.00632  18.0   2.31     0  0.538  6.575  65.2  4.0900    1  296.0  \\\n",
       "1  0.02731   0.0   7.07     0  0.469  6.421  78.9  4.9671    2  242.0   \n",
       "2  0.02729   0.0   7.07     0  0.469  7.185  61.1  4.9671    2  242.0   \n",
       "3  0.03237   0.0   2.18     0  0.458  6.998  45.8  6.0622    3  222.0   \n",
       "4  0.06905   0.0   2.18     0  0.458  7.147  54.2  6.0622    3  222.0   \n",
       "\n",
       "   PTRATIO   BLACK  LSTAT  \n",
       "0     15.3  396.90   4.98  \n",
       "1     17.8  396.90   9.14  \n",
       "2     17.8  392.83   4.03  \n",
       "3     18.7  394.63   2.94  \n",
       "4     18.7  396.90   5.33  "
      ]
     },
     "execution_count": 45,
     "metadata": {},
     "output_type": "execute_result"
    }
   ],
   "source": [
    "x.head()"
   ]
  },
  {
   "cell_type": "code",
   "execution_count": 46,
   "metadata": {
    "id": "1O0txBgQXQC3"
   },
   "outputs": [],
   "source": [
    "from sklearn.model_selection import train_test_split"
   ]
  },
  {
   "cell_type": "code",
   "execution_count": 47,
   "metadata": {
    "id": "JFr8BYMlX7Gr"
   },
   "outputs": [],
   "source": [
    "x_train, x_test, y_train, y_test = train_test_split(x,y,test_size = 0.2, random_state = 2)"
   ]
  },
  {
   "cell_type": "code",
   "execution_count": 48,
   "metadata": {
    "id": "gCdo4OevYYWj"
   },
   "outputs": [],
   "source": [
    "from sklearn.linear_model import LinearRegression\n",
    "from sklearn.linear_model import LinearRegression\n"
   ]
  },
  {
   "cell_type": "code",
   "execution_count": 49,
   "metadata": {
    "id": "K0dLnIO-Ytsv"
   },
   "outputs": [],
   "source": [
    "regression = LinearRegression()"
   ]
  },
  {
   "cell_type": "code",
   "execution_count": 50,
   "metadata": {
    "colab": {
     "base_uri": "https://localhost:8080/",
     "height": 75
    },
    "id": "nkUUJEFdYxVm",
    "outputId": "af5795ac-2f07-4978-b34d-fd90abcfb11a"
   },
   "outputs": [
    {
     "data": {
      "text/html": [
       "<style>#sk-container-id-2 {color: black;background-color: white;}#sk-container-id-2 pre{padding: 0;}#sk-container-id-2 div.sk-toggleable {background-color: white;}#sk-container-id-2 label.sk-toggleable__label {cursor: pointer;display: block;width: 100%;margin-bottom: 0;padding: 0.3em;box-sizing: border-box;text-align: center;}#sk-container-id-2 label.sk-toggleable__label-arrow:before {content: \"▸\";float: left;margin-right: 0.25em;color: #696969;}#sk-container-id-2 label.sk-toggleable__label-arrow:hover:before {color: black;}#sk-container-id-2 div.sk-estimator:hover label.sk-toggleable__label-arrow:before {color: black;}#sk-container-id-2 div.sk-toggleable__content {max-height: 0;max-width: 0;overflow: hidden;text-align: left;background-color: #f0f8ff;}#sk-container-id-2 div.sk-toggleable__content pre {margin: 0.2em;color: black;border-radius: 0.25em;background-color: #f0f8ff;}#sk-container-id-2 input.sk-toggleable__control:checked~div.sk-toggleable__content {max-height: 200px;max-width: 100%;overflow: auto;}#sk-container-id-2 input.sk-toggleable__control:checked~label.sk-toggleable__label-arrow:before {content: \"▾\";}#sk-container-id-2 div.sk-estimator input.sk-toggleable__control:checked~label.sk-toggleable__label {background-color: #d4ebff;}#sk-container-id-2 div.sk-label input.sk-toggleable__control:checked~label.sk-toggleable__label {background-color: #d4ebff;}#sk-container-id-2 input.sk-hidden--visually {border: 0;clip: rect(1px 1px 1px 1px);clip: rect(1px, 1px, 1px, 1px);height: 1px;margin: -1px;overflow: hidden;padding: 0;position: absolute;width: 1px;}#sk-container-id-2 div.sk-estimator {font-family: monospace;background-color: #f0f8ff;border: 1px dotted black;border-radius: 0.25em;box-sizing: border-box;margin-bottom: 0.5em;}#sk-container-id-2 div.sk-estimator:hover {background-color: #d4ebff;}#sk-container-id-2 div.sk-parallel-item::after {content: \"\";width: 100%;border-bottom: 1px solid gray;flex-grow: 1;}#sk-container-id-2 div.sk-label:hover label.sk-toggleable__label {background-color: #d4ebff;}#sk-container-id-2 div.sk-serial::before {content: \"\";position: absolute;border-left: 1px solid gray;box-sizing: border-box;top: 0;bottom: 0;left: 50%;z-index: 0;}#sk-container-id-2 div.sk-serial {display: flex;flex-direction: column;align-items: center;background-color: white;padding-right: 0.2em;padding-left: 0.2em;position: relative;}#sk-container-id-2 div.sk-item {position: relative;z-index: 1;}#sk-container-id-2 div.sk-parallel {display: flex;align-items: stretch;justify-content: center;background-color: white;position: relative;}#sk-container-id-2 div.sk-item::before, #sk-container-id-2 div.sk-parallel-item::before {content: \"\";position: absolute;border-left: 1px solid gray;box-sizing: border-box;top: 0;bottom: 0;left: 50%;z-index: -1;}#sk-container-id-2 div.sk-parallel-item {display: flex;flex-direction: column;z-index: 1;position: relative;background-color: white;}#sk-container-id-2 div.sk-parallel-item:first-child::after {align-self: flex-end;width: 50%;}#sk-container-id-2 div.sk-parallel-item:last-child::after {align-self: flex-start;width: 50%;}#sk-container-id-2 div.sk-parallel-item:only-child::after {width: 0;}#sk-container-id-2 div.sk-dashed-wrapped {border: 1px dashed gray;margin: 0 0.4em 0.5em 0.4em;box-sizing: border-box;padding-bottom: 0.4em;background-color: white;}#sk-container-id-2 div.sk-label label {font-family: monospace;font-weight: bold;display: inline-block;line-height: 1.2em;}#sk-container-id-2 div.sk-label-container {text-align: center;}#sk-container-id-2 div.sk-container {/* jupyter's `normalize.less` sets `[hidden] { display: none; }` but bootstrap.min.css set `[hidden] { display: none !important; }` so we also need the `!important` here to be able to override the default hidden behavior on the sphinx rendered scikit-learn.org. See: https://github.com/scikit-learn/scikit-learn/issues/21755 */display: inline-block !important;position: relative;}#sk-container-id-2 div.sk-text-repr-fallback {display: none;}</style><div id=\"sk-container-id-2\" class=\"sk-top-container\"><div class=\"sk-text-repr-fallback\"><pre>LinearRegression()</pre><b>In a Jupyter environment, please rerun this cell to show the HTML representation or trust the notebook. <br />On GitHub, the HTML representation is unable to render, please try loading this page with nbviewer.org.</b></div><div class=\"sk-container\" hidden><div class=\"sk-item\"><div class=\"sk-estimator sk-toggleable\"><input class=\"sk-toggleable__control sk-hidden--visually\" id=\"sk-estimator-id-2\" type=\"checkbox\" checked><label for=\"sk-estimator-id-2\" class=\"sk-toggleable__label sk-toggleable__label-arrow\">LinearRegression</label><div class=\"sk-toggleable__content\"><pre>LinearRegression()</pre></div></div></div></div></div>"
      ],
      "text/plain": [
       "LinearRegression()"
      ]
     },
     "execution_count": 50,
     "metadata": {},
     "output_type": "execute_result"
    }
   ],
   "source": [
    "regression.fit(x_train, y_train)"
   ]
  },
  {
   "cell_type": "code",
   "execution_count": 51,
   "metadata": {
    "colab": {
     "base_uri": "https://localhost:8080/"
    },
    "id": "sH-yb0INZBxO",
    "outputId": "1aa59568-711f-4eb9-9cce-6ff5f06d0a20"
   },
   "outputs": [
    {
     "name": "stdout",
     "output_type": "stream",
     "text": [
      "72.86\n"
     ]
    }
   ],
   "source": [
    "train_score=round(regression.score(x_train,y_train)*100,2)\n",
    "print(train_score)"
   ]
  },
  {
   "cell_type": "code",
   "execution_count": 52,
   "metadata": {
    "id": "rxCSPAuCZIcf"
   },
   "outputs": [],
   "source": [
    "y_pred = regression.predict(x_test)"
   ]
  },
  {
   "cell_type": "code",
   "execution_count": 53,
   "metadata": {
    "colab": {
     "base_uri": "https://localhost:8080/"
    },
    "id": "V5QxUjoPZna-",
    "outputId": "f5cd1abc-6685-4f37-b46a-133465cc13bc"
   },
   "outputs": [
    {
     "name": "stdout",
     "output_type": "stream",
     "text": [
      "[23.01506153 21.2115869  33.71590384 31.56542369  3.1826268   3.15381954\n",
      " 27.40305304 22.2126176  14.86506114 21.34105453 30.95942941 26.70065029\n",
      " 21.12624382 18.37282564 17.64315354 25.38194186 24.42970445 13.36957057\n",
      "  8.66686786 18.57490534 21.73966467 20.34270529 36.5461105  20.59627495\n",
      " 19.87979627 15.75766967 37.11632999 34.85897895 30.83458635 23.23441285\n",
      " 18.68278505 20.749546   31.84560076 30.20214207 13.3861702  15.87078398\n",
      " 13.70766096 23.74163998 25.95135088 23.18325878 28.99906539 12.50341936\n",
      " 31.08347911  6.39401895 23.71801218 20.61523929 33.15362417 19.21862493\n",
      " 35.89603081  0.82365329 31.90288611 31.69640543  6.58849712 34.62762996\n",
      " 20.41162545 19.69277608 19.53445865 18.58689088 15.81420496 22.98764309\n",
      " 19.65947045 16.36377019 18.48783369 32.76568172 35.49022568 24.58349631\n",
      " 41.5854766  32.94818456 14.60990256 27.43178268  8.04470074  5.61185652\n",
      " 22.21428332 18.72817007 31.02824788 26.04494485 24.60357003 24.84231113\n",
      " 25.38796252 24.87762205 33.71343923 19.72606026 20.60046055 27.82692882\n",
      " 38.0055624  37.24265207 22.16841364 29.6160177  31.07303315 17.93399181\n",
      " 20.87524555 19.48170453 18.61409692 37.13055111 39.81659125  9.1811861\n",
      " 35.30202671 30.28664671 21.0820992  13.65467682 31.38696603 24.99174874]\n"
     ]
    }
   ],
   "source": [
    "print(y_pred)"
   ]
  },
  {
   "attachments": {},
   "cell_type": "markdown",
   "metadata": {
    "id": "V51gETh5Z_Ed"
   },
   "source": [
    "# R-squared is a statistical measure that indicates how much of the variation of a dependent\n",
    "variable is explained by an independent variable in a regression"
   ]
  },
  {
   "cell_type": "code",
   "execution_count": 54,
   "metadata": {
    "colab": {
     "base_uri": "https://localhost:8080/"
    },
    "id": "UTclGQ4-Zp1r",
    "outputId": "60f64776-d318-4235-8bcf-a81ca94a2a19"
   },
   "outputs": [
    {
     "name": "stdout",
     "output_type": "stream",
     "text": [
      "77.89\n"
     ]
    }
   ],
   "source": [
    "from sklearn.metrics import r2_score\n",
    "score=round(r2_score(y_test,y_pred)*100,2)\n",
    "print(score)"
   ]
  },
  {
   "cell_type": "code",
   "execution_count": 55,
   "metadata": {
    "colab": {
     "base_uri": "https://localhost:8080/"
    },
    "id": "09G_-J_3aJwL",
    "outputId": "24256d87-b2d1-4457-ce21-6d697af4485d"
   },
   "outputs": [
    {
     "name": "stdout",
     "output_type": "stream",
     "text": [
      "mean absolute error on test data of linear regression 3.1130437468934313\n"
     ]
    }
   ],
   "source": [
    "from sklearn import metrics\n",
    "print(\"mean absolute error on test data of linear regression\", metrics.mean_absolute_error(y_test,y_pred))"
   ]
  },
  {
   "cell_type": "code",
   "execution_count": 56,
   "metadata": {
    "colab": {
     "base_uri": "https://localhost:8080/"
    },
    "id": "HjMa35IkaPBq",
    "outputId": "ebbf64ec-c5cb-4fc9-aa11-ea05e1ea44ab"
   },
   "outputs": [
    {
     "name": "stdout",
     "output_type": "stream",
     "text": [
      "mean squared eror on test data of linear regression 18.495420122448426\n"
     ]
    }
   ],
   "source": [
    "print(\"mean squared eror on test data of linear regression\", metrics.mean_squared_error(y_test, y_pred))"
   ]
  },
  {
   "cell_type": "code",
   "execution_count": 57,
   "metadata": {
    "colab": {
     "base_uri": "https://localhost:8080/"
    },
    "id": "uLEAhJz7bobB",
    "outputId": "a7c2fdad-9880-4631-9ee8-415e3229325b"
   },
   "outputs": [
    {
     "name": "stdout",
     "output_type": "stream",
     "text": [
      "root mean squared error on test data of linear regression 4.300630200615768\n"
     ]
    }
   ],
   "source": [
    "print(\"root mean squared error on test data of linear regression\",np.sqrt(metrics.mean_squared_error(y_test, y_pred)))"
   ]
  },
  {
   "cell_type": "code",
   "execution_count": 58,
   "metadata": {
    "id": "fyqJvCxRb9sB"
   },
   "outputs": [],
   "source": [
    "df = pd.DataFrame({\"actual\":y_test, \"predicted\":y_pred, \"variance\":y_test-y_pred})"
   ]
  },
  {
   "cell_type": "code",
   "execution_count": 59,
   "metadata": {
    "colab": {
     "base_uri": "https://localhost:8080/",
     "height": 206
    },
    "id": "hN2sS258cRi5",
    "outputId": "b23705ff-9e98-4c4f-9699-1cf689959317"
   },
   "outputs": [
    {
     "data": {
      "text/html": [
       "<div>\n",
       "<style scoped>\n",
       "    .dataframe tbody tr th:only-of-type {\n",
       "        vertical-align: middle;\n",
       "    }\n",
       "\n",
       "    .dataframe tbody tr th {\n",
       "        vertical-align: top;\n",
       "    }\n",
       "\n",
       "    .dataframe thead th {\n",
       "        text-align: right;\n",
       "    }\n",
       "</style>\n",
       "<table border=\"1\" class=\"dataframe\">\n",
       "  <thead>\n",
       "    <tr style=\"text-align: right;\">\n",
       "      <th></th>\n",
       "      <th>actual</th>\n",
       "      <th>predicted</th>\n",
       "      <th>variance</th>\n",
       "    </tr>\n",
       "  </thead>\n",
       "  <tbody>\n",
       "    <tr>\n",
       "      <th>463</th>\n",
       "      <td>20.2</td>\n",
       "      <td>23.015062</td>\n",
       "      <td>-2.815062</td>\n",
       "    </tr>\n",
       "    <tr>\n",
       "      <th>152</th>\n",
       "      <td>15.3</td>\n",
       "      <td>21.211587</td>\n",
       "      <td>-5.911587</td>\n",
       "    </tr>\n",
       "    <tr>\n",
       "      <th>291</th>\n",
       "      <td>37.3</td>\n",
       "      <td>33.715904</td>\n",
       "      <td>3.584096</td>\n",
       "    </tr>\n",
       "    <tr>\n",
       "      <th>183</th>\n",
       "      <td>32.5</td>\n",
       "      <td>31.565424</td>\n",
       "      <td>0.934576</td>\n",
       "    </tr>\n",
       "    <tr>\n",
       "      <th>384</th>\n",
       "      <td>8.8</td>\n",
       "      <td>3.182627</td>\n",
       "      <td>5.617373</td>\n",
       "    </tr>\n",
       "  </tbody>\n",
       "</table>\n",
       "</div>"
      ],
      "text/plain": [
       "     actual  predicted  variance\n",
       "463    20.2  23.015062 -2.815062\n",
       "152    15.3  21.211587 -5.911587\n",
       "291    37.3  33.715904  3.584096\n",
       "183    32.5  31.565424  0.934576\n",
       "384     8.8   3.182627  5.617373"
      ]
     },
     "execution_count": 59,
     "metadata": {},
     "output_type": "execute_result"
    }
   ],
   "source": [
    "df.head()"
   ]
  },
  {
   "cell_type": "code",
   "execution_count": 60,
   "metadata": {},
   "outputs": [
    {
     "name": "stdout",
     "output_type": "stream",
     "text": [
      "Mean Squared Error (Train): 19.326470203585725\n",
      "Mean Squared Error (Test): 33.448979997676446\n"
     ]
    }
   ],
   "source": [
    "# Step 8: Split the data into training and testing datasets:\n",
    "from sklearn.model_selection import train_test_split\n",
    "\n",
    "xtrain, xtest, ytrain, ytest = train_test_split(x, y, test_size=0.2, random_state=0)\n",
    "# Step 9: Train the linear regression model:\n",
    "from sklearn.linear_model import LinearRegression\n",
    "\n",
    "lm = LinearRegression()\n",
    "model = lm.fit(xtrain, ytrain)\n",
    "\n",
    "\n",
    "# Step 10: Predict the y_pred for all values of train_x and test_x\n",
    "ytrain_pred = lm.predict(xtrain)\n",
    "ytest_pred = lm.predict(xtest)\n",
    "# Step 11: Evaluate the performance of the model for train_y and test_y\n",
    "from sklearn.metrics import mean_squared_error, r2_score\n",
    "\n",
    "mse_train = mean_squared_error(ytrain, ytrain_pred)\n",
    "mse_test = mean_squared_error(ytest, ytest_pred)\n",
    "\n",
    "print(\"Mean Squared Error (Train):\", mse_train)\n",
    "print(\"Mean Squared Error (Test):\", mse_test)\n"
   ]
  },
  {
   "cell_type": "code",
   "execution_count": 61,
   "metadata": {
    "id": "akHT7qFCcTRb"
   },
   "outputs": [
    {
     "data": {
      "image/png": "[encoded data removed]",
      "text/plain": [
       "<Figure size 640x480 with 1 Axes>"
      ]
     },
     "metadata": {},
     "output_type": "display_data"
    }
   ],
   "source": [
    "# Plotting the linear regression model\n",
    "plt.scatter(ytrain, ytrain_pred, c='blue', marker='o', label='Training data')\n",
    "plt.scatter(ytest, ytest_pred, c='lightgreen', marker='s', label='Test data')\n",
    "plt.xlabel('True values')\n",
    "plt.ylabel('Predicted values')\n",
    "plt.title(\"True value vs Predicted value\")\n",
    "plt.legend(loc='upper left')\n",
    "plt.show()"
   ]
  },
  {
   "cell_type": "code",
   "execution_count": null,
   "metadata": {},
   "outputs": [],
   "source": [
    "# pandas (pd): pandas is a data manipulation library in Python. It provides data structures and functions to efficiently work with structured data. In the code, it is used to read the dataset from a CSV file and create DataFrames to store the data.\n",
    "\n",
    "# numpy (np): numpy is a numerical computing library in Python. It provides support for large, multi-dimensional arrays and matrices, along with a collection of mathematical functions. It is often used in conjunction with pandas for data analysis and manipulation.\n",
    "\n",
    "# matplotlib.pyplot (plt): matplotlib is a plotting library in Python. pyplot is a sub-module within matplotlib that provides a MATLAB-like interface for creating plots and visualizations. It is used in the code to create scatter plots.\n",
    "\n",
    "# seaborn (sns): seaborn is a data visualization library in Python built on top of matplotlib. It provides a high-level interface for creating informative and attractive statistical graphics. In the code, it is not used explicitly, but it can be used for enhancing the visualizations.\n",
    "\n",
    "# pd.read_csv(): This function is used to read a CSV (Comma-Separated Values) file and create a DataFrame in pandas. The CSV file contains the data for analysis.\n",
    "\n",
    "# DataFrame.head(): It is a method in pandas DataFrame that returns the first few rows of the DataFrame. It is used to quickly examine the structure and contents of the loaded data.\n",
    "\n",
    "# DataFrame.isna().sum(): This expression is used to check for missing values (NaN) in the DataFrame. It returns the sum of missing values for each column.\n",
    "\n",
    "# target_variables: It is a string variable that represents the target variable (dependent variable) in the dataset. In this case, it is set to \"MEDV\", which presumably represents the median value of owner-occupied homes in Boston.\n",
    "\n",
    "# DataFrame.drop(): This method in pandas is used to drop specified labels (columns or rows) from a DataFrame. In the code, it is used to drop the target variable column from the DataFrame, resulting in the input features stored in the variable \"x\".\n",
    "\n",
    "# train_test_split(): It is a function from the sklearn.model_selection module in scikit-learn. It is used to split the dataset into training and testing subsets. The data is divided randomly based on the specified test_size and random_state parameters.\n",
    "\n",
    "# LinearRegression(): It is a class from the sklearn.linear_model module in scikit-learn. It represents the linear regression model. In the code, it is instantiated to create a regression object.\n",
    "\n",
    "# regression.fit(): This method is used to fit the linear regression model to the training data. It learns the coefficients for the linear equation based on the input features and target variable.\n",
    "\n",
    "# regression.score(): It is a method in scikit-learn's LinearRegression class that returns the coefficient of determination (R-squared) of the prediction. It measures the proportion of the variance in the dependent variable that is predictable from the independent variables.\n",
    "\n",
    "# regression.predict(): This method is used to predict the target variable based on the input features (x_test) using the trained linear regression model.\n",
    "\n",
    "# r2_score(): It is a function from the sklearn.metrics module that computes the R-squared score between the actual and predicted values. It is used to evaluate the performance of the regression model.\n",
    "\n",
    "# metrics.mean_absolute_error(): It is a function from the sklearn.metrics module that calculates the mean absolute error (MAE) between the actual and predicted values. It measures the average absolute difference between the predicted and true values.\n",
    "\n",
    "# metrics.mean_squared_error(): It is a function from the sklearn.metrics module that calculates the mean squared error (MSE) between the actual and predicted values. It measures the average of the squared differences between the predicted and true values.\n",
    "\n",
    "# np.sqrt(): It is a function from the numpy library that calculates the square root of a given value. In the code, it is used to calculate the root mean squared error (RMSE) by taking the square root of the MSE.\n",
    "\n",
    "# DataFrame(): It is a constructor for creating a pandas DataFrame. In the code, a DataFrame is created to store the actual and predicted values, along with the variance (difference) between them.\n",
    "\n",
    "# scatter(): It is a function from the matplotlib.pyplot module used to create a scatter plot. It is used in the code to visualize the relationship between the true values and predicted values.\n",
    "\n",
    "# lm.fit(): This method is used to fit the linear regression model to the training data. It learns the coefficients for the linear equation based on the input features and target variable.\n",
    "\n",
    "# mean_squared_error(): It is a function from the sklearn.metrics module that calculates the mean squared error (MSE) between the actual and predicted values. It is used to evaluate the performance of the regression model.\n",
    "\n",
    "# plt.xlabel(), plt.ylabel(), plt.title(), plt.legend(), plt.show(): These functions and methods from the matplotlib.pyplot module are used to set labels, titles, legends, and display the plot on the screen."
   ]
  },
  {
   "cell_type": "code",
   "execution_count": 1,
   "metadata": {},
   "outputs": [],
   "source": [
    "# Q1: What is the purpose of the train_test_split() function in this code?\n",
    "# A1: The train_test_split() function is used to split the dataset into training and testing subsets. It randomly divides the data into two portions based on the specified test_size parameter, where one portion is used for training the linear regression model (x_train, y_train), and the other portion is used for evaluating the model's performance (x_test, y_test).\n",
    "\n",
    "# Q2: What is the role of the LinearRegression() class in this code?\n",
    "# A2: The LinearRegression() class represents the linear regression model. It is instantiated to create a regression object named \"regression\". This object is then used to train the linear regression model using the fit() method and make predictions using the predict() method.\n",
    "\n",
    "# Q3: How is the coefficient of determination (R-squared) calculated in this code?\n",
    "# A3: The coefficient of determination (R-squared) is calculated using the score() method of the linear regression model. It measures the proportion of the variance in the dependent variable that is explained by the independent variables. In this code, the score() method is called on the trained model with the training data (x_train, y_train), and the result is multiplied by 100 and rounded to two decimal places to obtain the R-squared value for the training data.\n",
    "\n",
    "# Q4: What is the meaning of the mean squared error (MSE) and root mean squared error (RMSE) in this code?\n",
    "# A4: The mean squared error (MSE) represents the average of the squared differences between the predicted and true values. It is calculated using the mean_squared_error() function from the sklearn.metrics module. The root mean squared error (RMSE) is obtained by taking the square root of the MSE using the np.sqrt() function from the numpy library. RMSE provides a measure of the average magnitude of the prediction errors in the same units as the target variable.\n",
    "\n",
    "# Q5: How are the actual, predicted, and variance values stored and displayed in this code?\n",
    "# A5: After making predictions on the test data, a DataFrame named \"df\" is created using the pd.DataFrame() constructor. It contains three columns: \"actual\" for the true values from the test data, \"predicted\" for the predicted values, and \"variance\" for the difference between the true and predicted values. The head() method is used to display the first few rows of this DataFrame, showing the actual, predicted, and variance values side by side.\n",
    "\n",
    "# Q6: How is the performance of the linear regression model visualized in this code?\n",
    "# A6: The scatter() function from the matplotlib.pyplot module is used to create a scatter plot. The plot displays the true values from the training data as blue dots and the true values from the test data as light green squares. The predicted values for both training and test data are plotted against the true values. The plot helps visualize how well the model's predictions align with the actual values."
   ]
  },
  {
   "cell_type": "code",
   "execution_count": null,
   "metadata": {},
   "outputs": [],
   "source": [
    "# Linear regression is a statistical method used to model the relationship between a dependent variable and one or more independent variables. It assumes a linear relationship, aiming to find the coefficients that minimize the differences between predicted and actual values. It is commonly used for prediction, understanding variable influences, and identifying trends in data. Linear regression can be extended to handle multiple independent variables and can be evaluated using metrics such as R-squared, mean squared error, and root mean squared error. It is a fundamental technique in statistics and forms the basis for more complex regression models."
   ]
  }
 ],
 "metadata": {
  "colab": {
   "authorship_tag": "ABX9TyPN37NbQw31nV676wEkorag",
   "include_colab_link": true,
   "provenance": []
  },
  "kernelspec": {
   "display_name": "Python 3 (ipykernel)",
   "language": "python",
   "name": "python3"
  },
  "language_info": {
   "codemirror_mode": {
    "name": "ipython",
    "version": 3
   },
   "file_extension": ".py",
   "mimetype": "text/x-python",
   "name": "python",
   "nbconvert_exporter": "python",
   "pygments_lexer": "ipython3",
   "version": "3.11.0"
  }
 },
 "nbformat": 4,
 "nbformat_minor": 1
}
