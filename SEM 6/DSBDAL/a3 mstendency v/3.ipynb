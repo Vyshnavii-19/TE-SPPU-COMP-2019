{
 "cells": [
  {
   "cell_type": "code",
   "execution_count": 4,
   "id": "f54feeae",
   "metadata": {},
   "outputs": [
    {
     "name": "stdout",
     "output_type": "stream",
     "text": [
      "Requirement already satisfied: matplotlib in c:\\users\\vaishnavi\\appdata\\local\\programs\\python\\python311\\lib\\site-packages (3.7.1)\n",
      "Requirement already satisfied: contourpy>=1.0.1 in c:\\users\\vaishnavi\\appdata\\local\\programs\\python\\python311\\lib\\site-packages (from matplotlib) (1.0.7)\n",
      "Requirement already satisfied: cycler>=0.10 in c:\\users\\vaishnavi\\appdata\\local\\programs\\python\\python311\\lib\\site-packages (from matplotlib) (0.11.0)\n",
      "Requirement already satisfied: fonttools>=4.22.0 in c:\\users\\vaishnavi\\appdata\\local\\programs\\python\\python311\\lib\\site-packages (from matplotlib) (4.39.4)\n",
      "Requirement already satisfied: kiwisolver>=1.0.1 in c:\\users\\vaishnavi\\appdata\\local\\programs\\python\\python311\\lib\\site-packages (from matplotlib) (1.4.4)\n",
      "Requirement already satisfied: numpy>=1.20 in c:\\users\\vaishnavi\\appdata\\local\\programs\\python\\python311\\lib\\site-packages (from matplotlib) (1.24.3)\n",
      "Requirement already satisfied: packaging>=20.0 in c:\\users\\vaishnavi\\appdata\\local\\programs\\python\\python311\\lib\\site-packages (from matplotlib) (23.1)\n",
      "Requirement already satisfied: pillow>=6.2.0 in c:\\users\\vaishnavi\\appdata\\local\\programs\\python\\python311\\lib\\site-packages (from matplotlib) (9.5.0)\n",
      "Requirement already satisfied: pyparsing>=2.3.1 in c:\\users\\vaishnavi\\appdata\\local\\programs\\python\\python311\\lib\\site-packages (from matplotlib) (3.0.9)\n",
      "Requirement already satisfied: python-dateutil>=2.7 in c:\\users\\vaishnavi\\appdata\\local\\programs\\python\\python311\\lib\\site-packages (from matplotlib) (2.8.2)\n",
      "Requirement already satisfied: six>=1.5 in c:\\users\\vaishnavi\\appdata\\local\\programs\\python\\python311\\lib\\site-packages (from python-dateutil>=2.7->matplotlib) (1.16.0)\n"
     ]
    },
    {
     "name": "stderr",
     "output_type": "stream",
     "text": [
      "\n",
      "[notice] A new release of pip available: 22.3 -> 23.1.2\n",
      "[notice] To update, run: python.exe -m pip install --upgrade pip\n"
     ]
    },
    {
     "name": "stdout",
     "output_type": "stream",
     "text": [
      "Requirement already satisfied: pandas in c:\\users\\vaishnavi\\appdata\\local\\programs\\python\\python311\\lib\\site-packages (2.0.1)\n",
      "Requirement already satisfied: python-dateutil>=2.8.2 in c:\\users\\vaishnavi\\appdata\\local\\programs\\python\\python311\\lib\\site-packages (from pandas) (2.8.2)\n",
      "Requirement already satisfied: pytz>=2020.1 in c:\\users\\vaishnavi\\appdata\\local\\programs\\python\\python311\\lib\\site-packages (from pandas) (2022.6)\n",
      "Requirement already satisfied: tzdata>=2022.1 in c:\\users\\vaishnavi\\appdata\\local\\programs\\python\\python311\\lib\\site-packages (from pandas) (2023.3)\n",
      "Requirement already satisfied: numpy>=1.21.0 in c:\\users\\vaishnavi\\appdata\\local\\programs\\python\\python311\\lib\\site-packages (from pandas) (1.24.3)\n",
      "Requirement already satisfied: six>=1.5 in c:\\users\\vaishnavi\\appdata\\local\\programs\\python\\python311\\lib\\site-packages (from python-dateutil>=2.8.2->pandas) (1.16.0)\n"
     ]
    },
    {
     "name": "stderr",
     "output_type": "stream",
     "text": [
      "\n",
      "[notice] A new release of pip available: 22.3 -> 23.1.2\n",
      "[notice] To update, run: python.exe -m pip install --upgrade pip\n"
     ]
    }
   ],
   "source": [
    "!pip install matplotlib\n",
    "!pip install pandas\n",
    "\n",
    "import pandas as pd\n",
    "import numpy as np\n",
    "import matplotlib.pyplot as plt\n"
   ]
  },
  {
   "cell_type": "code",
   "execution_count": 5,
   "id": "506d5627",
   "metadata": {},
   "outputs": [],
   "source": [
    "df=pd.read_csv('Book1a.csv')"
   ]
  },
  {
   "cell_type": "code",
   "execution_count": 6,
   "id": "ad5d12ab",
   "metadata": {},
   "outputs": [
    {
     "data": {
      "text/html": [
       "<div>\n",
       "<style scoped>\n",
       "    .dataframe tbody tr th:only-of-type {\n",
       "        vertical-align: middle;\n",
       "    }\n",
       "\n",
       "    .dataframe tbody tr th {\n",
       "        vertical-align: top;\n",
       "    }\n",
       "\n",
       "    .dataframe thead th {\n",
       "        text-align: right;\n",
       "    }\n",
       "</style>\n",
       "<table border=\"1\" class=\"dataframe\">\n",
       "  <thead>\n",
       "    <tr style=\"text-align: right;\">\n",
       "      <th></th>\n",
       "      <th>Age</th>\n",
       "      <th>Attrition</th>\n",
       "      <th>BusinessTravel</th>\n",
       "      <th>Department</th>\n",
       "      <th>Education</th>\n",
       "      <th>MonthlyIncome</th>\n",
       "    </tr>\n",
       "  </thead>\n",
       "  <tbody>\n",
       "    <tr>\n",
       "      <th>0</th>\n",
       "      <td>32</td>\n",
       "      <td>No</td>\n",
       "      <td>Travel_Rarely</td>\n",
       "      <td>Sales</td>\n",
       "      <td>3</td>\n",
       "      <td>5000</td>\n",
       "    </tr>\n",
       "    <tr>\n",
       "      <th>1</th>\n",
       "      <td>45</td>\n",
       "      <td>No</td>\n",
       "      <td>Travel_Frequently</td>\n",
       "      <td>Research &amp; Development</td>\n",
       "      <td>4</td>\n",
       "      <td>6000</td>\n",
       "    </tr>\n",
       "    <tr>\n",
       "      <th>2</th>\n",
       "      <td>28</td>\n",
       "      <td>Yes</td>\n",
       "      <td>Travel_Rarely</td>\n",
       "      <td>Human Resources</td>\n",
       "      <td>2</td>\n",
       "      <td>3500</td>\n",
       "    </tr>\n",
       "    <tr>\n",
       "      <th>3</th>\n",
       "      <td>33</td>\n",
       "      <td>No</td>\n",
       "      <td>Travel_Rarely</td>\n",
       "      <td>Research &amp; Development</td>\n",
       "      <td>4</td>\n",
       "      <td>7000</td>\n",
       "    </tr>\n",
       "  </tbody>\n",
       "</table>\n",
       "</div>"
      ],
      "text/plain": [
       "   Age Attrition     BusinessTravel              Department  Education   \n",
       "0   32        No      Travel_Rarely                   Sales          3  \\\n",
       "1   45        No  Travel_Frequently  Research & Development          4   \n",
       "2   28       Yes      Travel_Rarely         Human Resources          2   \n",
       "3   33        No      Travel_Rarely  Research & Development          4   \n",
       "\n",
       "   MonthlyIncome  \n",
       "0           5000  \n",
       "1           6000  \n",
       "2           3500  \n",
       "3           7000  "
      ]
     },
     "execution_count": 6,
     "metadata": {},
     "output_type": "execute_result"
    }
   ],
   "source": [
    "df"
   ]
  },
  {
   "cell_type": "code",
   "execution_count": 7,
   "id": "6033359a",
   "metadata": {},
   "outputs": [
    {
     "name": "stdout",
     "output_type": "stream",
     "text": [
      "Index(['Age', 'Attrition', 'BusinessTravel', 'Department', 'Education',\n",
      "       'MonthlyIncome'],\n",
      "      dtype='object')\n"
     ]
    }
   ],
   "source": [
    "#print(df.shape)\n",
    "#print(df.info)\n",
    "print(df.columns)\n"
   ]
  },
  {
   "cell_type": "code",
   "execution_count": 8,
   "id": "64e87c98",
   "metadata": {},
   "outputs": [
    {
     "name": "stdout",
     "output_type": "stream",
     "text": [
      "The mean of monthly income is : 5375.0\n"
     ]
    }
   ],
   "source": [
    "#Mean of monthly income and age\n",
    "print(\"The mean of monthly income is :\",df.loc[:,\"MonthlyIncome\"].mean())\n"
   ]
  },
  {
   "cell_type": "code",
   "execution_count": 9,
   "id": "952e972d",
   "metadata": {},
   "outputs": [
    {
     "name": "stdout",
     "output_type": "stream",
     "text": [
      "The mean of age is : 34.5\n"
     ]
    }
   ],
   "source": [
    "print(\"The mean of age is :\",df.loc[:,\"Age\"].mean())"
   ]
  },
  {
   "cell_type": "code",
   "execution_count": 10,
   "id": "2eaa6bfa",
   "metadata": {},
   "outputs": [
    {
     "name": "stdout",
     "output_type": "stream",
     "text": [
      "The median of monthly income is : 5500.0\n"
     ]
    }
   ],
   "source": [
    "#Mode of monthly income and age\n",
    "print(\"The median of monthly income is :\",df.loc[:,\"MonthlyIncome\"].median())"
   ]
  },
  {
   "cell_type": "code",
   "execution_count": 11,
   "id": "6aad1fba",
   "metadata": {},
   "outputs": [
    {
     "name": "stdout",
     "output_type": "stream",
     "text": [
      "The median of age is : 32.5\n"
     ]
    }
   ],
   "source": [
    "print(\"The median of age is :\",df.loc[:,\"Age\"].median())\n"
   ]
  },
  {
   "cell_type": "code",
   "execution_count": 12,
   "id": "15d2b468",
   "metadata": {},
   "outputs": [
    {
     "name": "stdout",
     "output_type": "stream",
     "text": [
      "The mode of monthly income is : 0    3500\n",
      "1    5000\n",
      "2    6000\n",
      "3    7000\n",
      "Name: MonthlyIncome, dtype: int64\n"
     ]
    }
   ],
   "source": [
    "#Median of monthly income and age\n",
    "print(\"The mode of monthly income is :\",df.loc[:,\"MonthlyIncome\"].mode())\n"
   ]
  },
  {
   "cell_type": "code",
   "execution_count": 13,
   "id": "b1c64674",
   "metadata": {},
   "outputs": [
    {
     "name": "stdout",
     "output_type": "stream",
     "text": [
      "The mode of age is : 0    28\n",
      "1    32\n",
      "2    33\n",
      "3    45\n",
      "Name: Age, dtype: int64\n"
     ]
    }
   ],
   "source": [
    "print(\"The mode of age is :\",df.loc[:,\"Age\"].mode())"
   ]
  },
  {
   "cell_type": "code",
   "execution_count": 14,
   "id": "3ce62384",
   "metadata": {},
   "outputs": [
    {
     "name": "stdout",
     "output_type": "stream",
     "text": [
      "The standard deviation of monthly income is : 1493.0394055974098\n"
     ]
    }
   ],
   "source": [
    "#Standard deviation of monthly income and age\n",
    "print(\"The standard deviation of monthly income is :\",df.loc[:,\"MonthlyIncome\"].std())"
   ]
  },
  {
   "cell_type": "code",
   "execution_count": 15,
   "id": "90fbc923",
   "metadata": {},
   "outputs": [
    {
     "name": "stdout",
     "output_type": "stream",
     "text": [
      "The standard deviation of age is : 7.32575365861197\n"
     ]
    }
   ],
   "source": [
    "print(\"The standard deviation of age is :\",df.loc[:,\"Age\"].std())\n"
   ]
  },
  {
   "cell_type": "code",
   "execution_count": 16,
   "id": "362d68ff",
   "metadata": {},
   "outputs": [
    {
     "name": "stdout",
     "output_type": "stream",
     "text": [
      "Income [5000 6000 3500 7000]\n",
      "Age array [32 45 28 33]\n",
      "Maximum income among the employees is : 7000\n",
      "Minimum income among the employees is : 3500\n",
      "Maximum age among the employees is : 45\n",
      "Minimum age among the employees is : 28\n"
     ]
    }
   ],
   "source": [
    "#Storing age and monthly income in array and then finding maximum and minimum values\n",
    "array1 = np.array(df['MonthlyIncome'])\n",
    "array2=np.array(df[\"Age\"])\n",
    "print(\"Income\",array1)\n",
    "print(\"Age array\",array2)\n",
    "print(\"Maximum income among the employees is :\",max(array1))\n",
    "print(\"Minimum income among the employees is :\",min(array1))\n",
    "print(\"Maximum age among the employees is :\",max(array2))\n",
    "print(\"Minimum age among the employees is :\",min(array2))"
   ]
  },
  {
   "cell_type": "code",
   "execution_count": 17,
   "id": "51964324",
   "metadata": {},
   "outputs": [
    {
     "data": {
      "text/html": [
       "<div>\n",
       "<style scoped>\n",
       "    .dataframe tbody tr th:only-of-type {\n",
       "        vertical-align: middle;\n",
       "    }\n",
       "\n",
       "    .dataframe tbody tr th {\n",
       "        vertical-align: top;\n",
       "    }\n",
       "\n",
       "    .dataframe thead th {\n",
       "        text-align: right;\n",
       "    }\n",
       "</style>\n",
       "<table border=\"1\" class=\"dataframe\">\n",
       "  <thead>\n",
       "    <tr style=\"text-align: right;\">\n",
       "      <th></th>\n",
       "      <th>Age</th>\n",
       "      <th>Attrition</th>\n",
       "      <th>BusinessTravel</th>\n",
       "      <th>Department</th>\n",
       "      <th>Education</th>\n",
       "      <th>MonthlyIncome</th>\n",
       "    </tr>\n",
       "  </thead>\n",
       "  <tbody>\n",
       "    <tr>\n",
       "      <th>0</th>\n",
       "      <td>32</td>\n",
       "      <td>No</td>\n",
       "      <td>Travel_Rarely</td>\n",
       "      <td>Sales</td>\n",
       "      <td>3</td>\n",
       "      <td>5000</td>\n",
       "    </tr>\n",
       "    <tr>\n",
       "      <th>1</th>\n",
       "      <td>45</td>\n",
       "      <td>No</td>\n",
       "      <td>Travel_Frequently</td>\n",
       "      <td>Research &amp; Development</td>\n",
       "      <td>4</td>\n",
       "      <td>6000</td>\n",
       "    </tr>\n",
       "    <tr>\n",
       "      <th>2</th>\n",
       "      <td>28</td>\n",
       "      <td>Yes</td>\n",
       "      <td>Travel_Rarely</td>\n",
       "      <td>Human Resources</td>\n",
       "      <td>2</td>\n",
       "      <td>3500</td>\n",
       "    </tr>\n",
       "    <tr>\n",
       "      <th>3</th>\n",
       "      <td>33</td>\n",
       "      <td>No</td>\n",
       "      <td>Travel_Rarely</td>\n",
       "      <td>Research &amp; Development</td>\n",
       "      <td>4</td>\n",
       "      <td>7000</td>\n",
       "    </tr>\n",
       "  </tbody>\n",
       "</table>\n",
       "</div>"
      ],
      "text/plain": [
       "   Age Attrition     BusinessTravel              Department  Education   \n",
       "0   32        No      Travel_Rarely                   Sales          3  \\\n",
       "1   45        No  Travel_Frequently  Research & Development          4   \n",
       "2   28       Yes      Travel_Rarely         Human Resources          2   \n",
       "3   33        No      Travel_Rarely  Research & Development          4   \n",
       "\n",
       "   MonthlyIncome  \n",
       "0           5000  \n",
       "1           6000  \n",
       "2           3500  \n",
       "3           7000  "
      ]
     },
     "execution_count": 17,
     "metadata": {},
     "output_type": "execute_result"
    }
   ],
   "source": [
    "\n",
    "\n",
    "# Replacing the categorical values by numeric values\n",
    "df.head()\n",
    "\n"
   ]
  },
  {
   "cell_type": "code",
   "execution_count": null,
   "id": "5913ce10",
   "metadata": {},
   "outputs": [],
   "source": []
  },
  {
   "cell_type": "code",
   "execution_count": 18,
   "id": "f043d893",
   "metadata": {},
   "outputs": [
    {
     "data": {
      "text/html": [
       "<div>\n",
       "<style scoped>\n",
       "    .dataframe tbody tr th:only-of-type {\n",
       "        vertical-align: middle;\n",
       "    }\n",
       "\n",
       "    .dataframe tbody tr th {\n",
       "        vertical-align: top;\n",
       "    }\n",
       "\n",
       "    .dataframe thead th {\n",
       "        text-align: right;\n",
       "    }\n",
       "</style>\n",
       "<table border=\"1\" class=\"dataframe\">\n",
       "  <thead>\n",
       "    <tr style=\"text-align: right;\">\n",
       "      <th></th>\n",
       "      <th>Age</th>\n",
       "      <th>Attrition</th>\n",
       "      <th>BusinessTravel</th>\n",
       "      <th>Department</th>\n",
       "      <th>Education</th>\n",
       "      <th>MonthlyIncome</th>\n",
       "    </tr>\n",
       "  </thead>\n",
       "  <tbody>\n",
       "    <tr>\n",
       "      <th>0</th>\n",
       "      <td>32</td>\n",
       "      <td>0</td>\n",
       "      <td>1</td>\n",
       "      <td>Sales</td>\n",
       "      <td>3</td>\n",
       "      <td>5000</td>\n",
       "    </tr>\n",
       "    <tr>\n",
       "      <th>1</th>\n",
       "      <td>45</td>\n",
       "      <td>0</td>\n",
       "      <td>0</td>\n",
       "      <td>Research &amp; Development</td>\n",
       "      <td>4</td>\n",
       "      <td>6000</td>\n",
       "    </tr>\n",
       "    <tr>\n",
       "      <th>2</th>\n",
       "      <td>28</td>\n",
       "      <td>1</td>\n",
       "      <td>1</td>\n",
       "      <td>Human Resources</td>\n",
       "      <td>2</td>\n",
       "      <td>3500</td>\n",
       "    </tr>\n",
       "    <tr>\n",
       "      <th>3</th>\n",
       "      <td>33</td>\n",
       "      <td>0</td>\n",
       "      <td>1</td>\n",
       "      <td>Research &amp; Development</td>\n",
       "      <td>4</td>\n",
       "      <td>7000</td>\n",
       "    </tr>\n",
       "  </tbody>\n",
       "</table>\n",
       "</div>"
      ],
      "text/plain": [
       "   Age  Attrition  BusinessTravel              Department  Education   \n",
       "0   32          0               1                   Sales          3  \\\n",
       "1   45          0               0  Research & Development          4   \n",
       "2   28          1               1         Human Resources          2   \n",
       "3   33          0               1  Research & Development          4   \n",
       "\n",
       "   MonthlyIncome  \n",
       "0           5000  \n",
       "1           6000  \n",
       "2           3500  \n",
       "3           7000  "
      ]
     },
     "execution_count": 18,
     "metadata": {},
     "output_type": "execute_result"
    }
   ],
   "source": [
    "df[\"BusinessTravel\"].replace({\"Travel_Rarely\":1, \"Travel_Frequently\":0}, inplace=True)\n",
    "df[\"Attrition\"].replace({ \"Yes\":1, \"No\":0}, inplace=True)\n",
    "df.head()"
   ]
  },
  {
   "cell_type": "code",
   "execution_count": null,
   "id": "3938b839",
   "metadata": {},
   "outputs": [],
   "source": []
  },
  {
   "cell_type": "code",
   "execution_count": null,
   "id": "1ab3398f",
   "metadata": {},
   "outputs": [],
   "source": []
  },
  {
   "cell_type": "code",
   "execution_count": null,
   "id": "4b3abee3",
   "metadata": {},
   "outputs": [],
   "source": []
  },
  {
   "cell_type": "code",
   "execution_count": null,
   "id": "2ca3fc18",
   "metadata": {},
   "outputs": [],
   "source": []
  },
  {
   "cell_type": "code",
   "execution_count": null,
   "id": "6653a27e",
   "metadata": {},
   "outputs": [],
   "source": []
  },
  {
   "cell_type": "code",
   "execution_count": null,
   "id": "1bea410b",
   "metadata": {},
   "outputs": [],
   "source": [
    "# rtainly! Here's an explanation of the keywords used in the code:\n",
    "\n",
    "# pip install: This command is used to install packages or libraries in Python. It allows you to install external modules that are not included in the standard Python distribution.\n",
    "\n",
    "# import pandas as pd: This line imports the pandas library and assigns it the alias pd. Pandas is a powerful library for data manipulation and analysis.\n",
    "\n",
    "# import numpy as np: This line imports the numpy library and assigns it the alias np. NumPy is a fundamental package for scientific computing in Python and provides support for large, multi-dimensional arrays and mathematical functions.\n",
    "\n",
    "# import matplotlib.pyplot as plt: This line imports the pyplot module from the matplotlib library and assigns it the alias plt. Matplotlib is a plotting library in Python that provides a wide variety of plots and visualization capabilities.\n",
    "\n",
    "# df=pd.read_csv('Book1a.csv'): This line reads a CSV file named 'Book1a.csv' and stores its contents in a pandas DataFrame called df. The DataFrame is a tabular data structure that allows easy manipulation and analysis of data.\n",
    "\n",
    "# df.shape: This line returns the dimensions of the DataFrame, i.e., the number of rows and columns.\n",
    "\n",
    "# df.columns: This attribute of the DataFrame returns the column names present in the DataFrame.\n",
    "\n",
    "# df.loc: This is a pandas function used to access specific rows and columns of the DataFrame using labels or boolean indexing.\n",
    "\n",
    "# .mean(): This method calculates the mean of a given column.\n",
    "\n",
    "# .median(): This method calculates the median of a given column.\n",
    "\n",
    "# .mode(): This method calculates the mode of a given column.\n",
    "\n",
    "# .std(): This method calculates the standard deviation of a given column.\n",
    "\n",
    "# np.array(): This function converts a list or series into a numpy array.\n",
    "\n",
    "# max(): This function returns the maximum value in a given array or column.\n",
    "\n",
    "# min(): This function returns the minimum value in a given array or column.\n",
    "\n",
    "# .replace(): This method replaces specified values in a column with new values.\n",
    "\n",
    "# Questions related to the assignment:\n",
    "\n",
    "# Q1: What is the purpose of the .mean() method used in the code?\n",
    "# A1: The .mean() method is used to calculate the mean (average) value of the specified column. In this code, it is used to find the mean of the 'MonthlyIncome' and 'Age' columns.\n",
    "\n",
    "# Q2: How are categorical values replaced with numeric values in the code?\n",
    "# A2: The .replace() method is used to replace specific categorical values with numeric values in the 'BusinessTravel' and 'Attrition' columns. For example, 'Travel_Rarely' is replaced with 1 and 'Travel_Frequently' is replaced with 0 in the 'BusinessTravel' column.\n",
    "\n",
    "# Q3: How can you find the maximum and minimum values in a given array or column?\n",
    "# A3: The max() and min() functions are used to find the maximum and minimum values, respectively, in a given array or column. In this code, they are used to find the maximum and minimum values of the 'MonthlyIncome' and 'Age' arrays.\n",
    "\n",
    "# These questions cover various aspects of the code, including data manipulation, descriptive statistics, and categorical value replacement.\n",
    "\n",
    "\n",
    "\n",
    "\n",
    "\n",
    "# User\n",
    "# TELL MEE QUESTIONS AND ANSWERS RELATED TO THIS ASSIGNMENT\n",
    "# ChatGPT\n",
    "# Certainly! Here are some questions and their corresponding answers related to the assignment code:\n",
    "\n",
    "# Q1: What is the purpose of the code df=pd.read_csv('Book1a.csv')?\n",
    "# A1: The code reads the contents of a CSV file named 'Book1a.csv' and stores it in a pandas DataFrame called df. This allows further analysis and manipulation of the data using pandas functions.\n",
    "\n",
    "# Q2: How can you check the dimensions (number of rows and columns) of the DataFrame?\n",
    "# A2: The code df.shape returns the dimensions of the DataFrame. The output will be in the format (number_of_rows, number_of_columns).\n",
    "\n",
    "# Q3: What does the code df.columns do?\n",
    "# A3: The code df.columns returns the column names present in the DataFrame. It allows you to access and refer to specific columns by their names.\n",
    "\n",
    "# Q4: How can you calculate the mean of the 'MonthlyIncome' and 'Age' columns?\n",
    "# A4: The code df.loc[:, \"MonthlyIncome\"].mean() calculates the mean of the 'MonthlyIncome' column, and df.loc[:, \"Age\"].mean() calculates the mean of the 'Age' column.\n",
    "\n",
    "# Q5: How can you replace categorical values with numeric values in a column?\n",
    "# A5: The code df[\"BusinessTravel\"].replace({\"Travel_Rarely\":1, \"Travel_Frequently\":0}, inplace=True) replaces the values 'Travel_Rarely' with 1 and 'Travel_Frequently' with 0 in the 'BusinessTravel' column. Similarly, df[\"Attrition\"].replace({\"Yes\":1, \"No\":0}, inplace=True) replaces 'Yes' with 1 and 'No' with 0 in the 'Attrition' column.\n",
    "\n",
    "# Q6: How can you find the maximum and minimum values in the 'MonthlyIncome' and 'Age' columns?\n",
    "# A6: The code max(df[\"MonthlyIncome\"]) returns the maximum value in the 'MonthlyIncome' column, and min(df[\"MonthlyIncome\"]) returns the minimum value. Similarly, max(df[\"Age\"]) returns the maximum value in the 'Age' column, and min(df[\"Age\"]) returns the minimum value.\n",
    "\n",
    "# These questions cover various aspects of the code, including data reading, dimension checking, descriptive statistics, and categorical value replacement."
   ]
  }
 ],
 "metadata": {
  "kernelspec": {
   "display_name": "Python 3 (ipykernel)",
   "language": "python",
   "name": "python3"
  },
  "language_info": {
   "codemirror_mode": {
    "name": "ipython",
    "version": 3
   },
   "file_extension": ".py",
   "mimetype": "text/x-python",
   "name": "python",
   "nbconvert_exporter": "python",
   "pygments_lexer": "ipython3",
   "version": "3.11.0"
  }
 },
 "nbformat": 4,
 "nbformat_minor": 5
}
