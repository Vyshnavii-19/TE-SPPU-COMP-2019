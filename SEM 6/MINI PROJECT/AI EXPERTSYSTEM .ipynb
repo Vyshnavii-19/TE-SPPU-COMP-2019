{
  "nbformat": 4,
  "nbformat_minor": 0,
  "metadata": {
    "colab": {
      "provenance": []
    },
    "kernelspec": {
      "name": "python3",
      "display_name": "Python 3"
    },
    "language_info": {
      "name": "python"
    }
  },
  "cells": [
    {
      "cell_type": "code",
      "source": [
        "!pip install pymongo\n",
        "!pip install dnspython\n"
      ],
      "metadata": {
        "colab": {
          "base_uri": "https://localhost:8080/"
        },
        "id": "3WSefX1Oq8gK",
        "outputId": "89c9bfd3-6c11-4fea-ab42-4934fbd326d8"
      },
      "execution_count": null,
      "outputs": [
        {
          "output_type": "stream",
          "name": "stdout",
          "text": [
            "Looking in indexes: https://pypi.org/simple, https://us-python.pkg.dev/colab-wheels/public/simple/\n",
            "Requirement already satisfied: pymongo in /usr/local/lib/python3.10/dist-packages (4.3.3)\n",
            "Requirement already satisfied: dnspython<3.0.0,>=1.16.0 in /usr/local/lib/python3.10/dist-packages (from pymongo) (2.3.0)\n",
            "Looking in indexes: https://pypi.org/simple, https://us-python.pkg.dev/colab-wheels/public/simple/\n",
            "Requirement already satisfied: dnspython in /usr/local/lib/python3.10/dist-packages (2.3.0)\n"
          ]
        }
      ]
    },
    {
      "cell_type": "code",
      "source": [
        "import pymongo\n",
        "from pymongo import MongoClient\n",
        "import urllib\n",
        "\n"
      ],
      "metadata": {
        "id": "7X98atykq-gX"
      },
      "execution_count": null,
      "outputs": []
    },
    {
      "cell_type": "code",
      "source": [
        "username = 'x'\n",
        "password = 'xx'\n",
        "database = 'knowledge_base'\n",
        "collection = 'sample'\n",
        "cluster_name = 'Cluster0'\n",
        "\n",
        "# Replace <password> with your MongoDB Atlas cluster password\n",
        "password = urllib.parse.quote(password)\n",
        "\n",
        "# Create the MongoDB URI\n",
        "uri = f\"mongodb+srv://x:x@cluster0.qwzdjxk.mongodb.net/?retryWrites=true&w=majority\"\n",
        "\n",
        "# Create a MongoClient instance\n",
        "client = MongoClient(uri)\n",
        "\n",
        "# Select the database and collection\n",
        "db = client[database]\n",
        "col = db[collection]\n"
      ],
      "metadata": {
        "id": "ItxDedKpyYXS"
      },
      "execution_count": null,
      "outputs": []
    },
    {
      "cell_type": "code",
      "execution_count": null,
      "metadata": {
        "colab": {
          "base_uri": "https://localhost:8080/"
        },
        "id": "ZMrrEDlVZFlr",
        "outputId": "5cd1b21b-cb33-40e8-eb5d-8e7cdd01f927"
      },
      "outputs": [
        {
          "output_type": "stream",
          "name": "stdout",
          "text": [
            "Welcome to the information management expert system!\n",
            " while entering enter only one word,\n",
            "if u have  done with entering enter new fact as quit\n",
            "Please enter a fact: database\n",
            "The facts you have entered are:\n",
            "['database']\n",
            "Please enter a fact: sql\n",
            "The facts you have entered are:\n",
            "['database', 'sql']\n",
            "Please enter a fact: pratik\n",
            "The facts you have entered are:\n",
            "['database', 'sql', 'pratik']\n",
            "Please enter a fact: rathod\n",
            "The facts you have entered are:\n",
            "['database', 'sql', 'pratik', 'rathod']\n",
            "Please enter a fact: quit\n",
            "The following antecedents match with the facts: ['database', 'SQL']\n",
            "The conclusion is: Structured Query Language (SQL) is used to manage databases\n",
            "\n",
            "The following antecedents match with the facts: ['Rathod']\n",
            "The conclusion is: Surname of Pratik\n",
            "\n",
            "The following antecedents match with the facts: ['Pratik', 'Rathod']\n",
            "The conclusion is: Founder of this code\n",
            "\n"
          ]
        }
      ],
      "source": [
        "import numpy as np\n",
        "import pandas as pd\n",
        "import ast\n",
        "\n",
        "# knowledge_base = pd.read_csv(\"knowledge_base.csv\")\n",
        "\n",
        "import ast\n",
        "\n",
        "def user_output_conclusion(facts):\n",
        "    \n",
        "    projection = {\"antecedents\": 1, \"conclusion\": 1, \"_id\": 0}\n",
        "    rules = col.find({}, projection)\n",
        "    matching_rules = [rule for rule in rules if all(antecedent.lower() in (fact.lower() for fact in facts) for antecedent in ast.literal_eval(rule['antecedents']))]\n",
        "\n",
        "    \n",
        "    conclusions = [[rule['antecedents'], rule['conclusion']] for rule in matching_rules]\n",
        "    return conclusions\n",
        "\n",
        "\n",
        "def user_input():\n",
        "   \n",
        "\n",
        "    \n",
        "    facts=[]\n",
        "    # Print the welcome message\n",
        "    print(\"Welcome to the information management expert system!\\n while entering enter only one word,\\nif u have  done with entering enter new fact as quit\")\n",
        "\n",
        "    # Iterate until the user quits\n",
        "    while True:\n",
        "        # Ask the user for a fact\n",
        "        fact = input(\"Please enter a fact: \")\n",
        "        if fact.lower() == \"quit\":\n",
        "            break\n",
        "\n",
        "        # Add the fact to the list of facts\n",
        "        facts.append(fact)\n",
        "\n",
        "        # Print the list of facts\n",
        "        print(\"The facts you have entered are:\")\n",
        "        print(facts)\n",
        "\n",
        "       \n",
        "    return facts\n",
        "\n",
        "facts = user_input()\n",
        "\n",
        "conclusions = user_output_conclusion(facts)\n",
        "for rule in conclusions:\n",
        "    antecedents = ''.join(rule[0])\n",
        "    conclusion = rule[1]\n",
        "    print(f\"The following antecedents match with the facts: {antecedents}\")\n",
        "    print(f\"The conclusion is: {conclusion}\")\n",
        "    print()\n"
      ]
    },
    {
      "cell_type": "code",
      "source": [
        "for document in col.find():\n",
        "    print(document)\n",
        "    print(\"made by pratikk\")\n"
      ],
      "metadata": {
        "colab": {
          "base_uri": "https://localhost:8080/"
        },
        "id": "FP6ribrhJ8xI",
        "outputId": "1c54f33d-ab1a-4a78-99e1-f346d674dc11"
      },
      "execution_count": null,
      "outputs": [
        {
          "output_type": "stream",
          "name": "stdout",
          "text": [
            "{'_id': ObjectId('6460f4b8f4ac4536be7416bd'), 'antecedents': \"['database', 'SQL']\", 'conclusion': 'Structured Query Language (SQL) is used to manage databases'}\n",
            "{'_id': ObjectId('6460f4b8f4ac4536be7416bf'), 'antecedents': \"['computer', 'memory']\", 'conclusion': 'Random Access Memory (RAM) is used to store data temporarily'}\n",
            "{'_id': ObjectId('6460f4b8f4ac4536be7416cf'), 'antecedents': '[\"social media\", \"Twitter\"]', 'conclusion': 'Twitter is a social media platform used to share short messages'}\n",
            "{'_id': ObjectId('6460f4b8f4ac4536be7416c7'), 'antecedents': \"['finance', 'budgeting']\", 'conclusion': 'Budgeting is an important skill for managing personal finances.'}\n",
            "{'_id': ObjectId('6460f4b8f4ac4536be7416da'), 'antecedents': '[\"city\", \"Paris\"]', 'conclusion': 'Paris is the capital city of France, known for its art, culture, and cuisine'}\n",
            "{'_id': ObjectId('6460f4b8f4ac4536be7416f8'), 'antecedents': \"['programming', 'JavaScript', 'language']\", 'conclusion': 'JavaScript is a high-level programming language used primarily for creating dynamic and interactive web pages.'}\n",
            "{'_id': ObjectId('6460f4b8f4ac4536be7416fa'), 'antecedents': \"['web', 'server', 'Nginx']\", 'conclusion': 'Nginx is a free and open-source web server software.'}\n",
            "{'_id': ObjectId('6460f4b8f4ac4536be7416c2'), 'antecedents': \"['network', 'IP address']\", 'conclusion': 'An IP address is a unique identifier assigned to devices on a network'}\n",
            "{'_id': ObjectId('6460f4b8f4ac4536be7416ce'), 'antecedents': '[\"mobile phone\", \"Apple\"]', 'conclusion': 'Apple is a technology company that produces the iPhone'}\n",
            "{'_id': ObjectId('6460f4b8f4ac4536be7416d5'), 'antecedents': '[\"book\", \"To Kill a Mockingbird\"]', 'conclusion': 'To Kill a Mockingbird is a novel written by Harper Lee'}\n",
            "{'_id': ObjectId('6460f4b8f4ac4536be7416d6'), 'antecedents': '[\"animal\", \"panda\"]', 'conclusion': 'Pandas are a species of bear native to China'}\n",
            "{'_id': ObjectId('6460f4b8f4ac4536be7416d7'), 'antecedents': '[\"video game\", \"Minecraft\"]', 'conclusion': 'Minecraft is a popular sandbox video game that allows players to build and explore virtual worlds'}\n",
            "{'_id': ObjectId('6460f4b8f4ac4536be7416d9'), 'antecedents': '[\"celebrity\", \"Beyonce\"]', 'conclusion': 'Beyonce is an American singer, songwriter, and actress'}\n",
            "{'_id': ObjectId('6460f4b8f4ac4536be7416e3'), 'antecedents': '[\"restaurant\", \"McDonald\\'s\"]', 'conclusion': \"McDonald's is a fast food restaurant chain known for its burgers and fries\"}\n",
            "{'_id': ObjectId('6460f4b8f4ac4536be7416f1'), 'antecedents': \"['database', 'MySQL', 'server']\", 'conclusion': 'MySQL is an open-source relational database management system (RDBMS) developed by Oracle.'}\n",
            "{'_id': ObjectId('6460f4b8f4ac4536be7416ff'), 'antecedents': \"['web', 'server', 'IIS']\", 'conclusion': 'Internet Information Services (IIS) is a web server software created by Microsoft.'}\n",
            "{'_id': ObjectId('6460f4b8f4ac4536be741700'), 'antecedents': \"['database', 'PostgreSQL', 'server']\", 'conclusion': 'PostgreSQL is an open-source relational database management system (RDBMS).'}\n",
            "{'_id': ObjectId('6460f4b8f4ac4536be7416d4'), 'antecedents': '[\"movie\", \"The Godfather\"]', 'conclusion': 'The Godfather is a classic American crime film directed by Francis Ford Coppola'}\n",
            "{'_id': ObjectId('6460f4b8f4ac4536be7416df'), 'antecedents': '[\"color\", \"blue\"]', 'conclusion': 'Blue is a primary color often associated with calmness and tranquility'}\n",
            "{'_id': ObjectId('6460f4b8f4ac4536be7416e7'), 'antecedents': '[\"TV show\", \"Breaking Bad\"]', 'conclusion': 'Breaking Bad is a popular American television drama series about a high school chemistry teacher turned drug dealer'}\n",
            "{'_id': ObjectId('6460f4b8f4ac4536be7416f4'), 'antecedents': \"['computer', 'memory', 'RAM']\", 'conclusion': 'Random Access Memory (RAM) is a type of computer memory that can be accessed randomly.'}\n",
            "{'_id': ObjectId('6460f4b8f4ac4536be7416c1'), 'antecedents': \"['operating system', 'Linux']\", 'conclusion': 'Linux is an open source operating system'}\n",
            "{'_id': ObjectId('6460f4b8f4ac4536be7416c4'), 'antecedents': \"['programming', 'Python']\", 'conclusion': 'Python is a popular programming language known for its simplicity and readability'}\n",
            "{'_id': ObjectId('6460f4b8f4ac4536be7416c9'), 'antecedents': \"['technology', 'artificial intelligence']\", 'conclusion': 'Artificial intelligence has the potential to revolutionize various industries.'}\n",
            "{'_id': ObjectId('6460f4b8f4ac4536be7416d8'), 'antecedents': '[\"fruit\", \"banana\"]', 'conclusion': 'Bananas are a common fruit known for their high potassium content'}\n",
            "{'_id': ObjectId('6460f4b8f4ac4536be7416e0'), 'antecedents': '[\"vehicle\", \"bicycle\"]', 'conclusion': 'A bicycle is a human-powered vehicle with two wheels'}\n",
            "{'_id': ObjectId('6460f4b8f4ac4536be7416e5'), 'antecedents': '[\"book\", \"1984\"]', 'conclusion': '1984 is a dystopian novel written by George Orwell'}\n",
            "{'_id': ObjectId('6460f4b8f4ac4536be7416e9'), 'antecedents': '[\"sport\", \"soccer\"]', 'conclusion': 'Soccer, also known as football, is a popular sport played worldwide'}\n",
            "{'_id': ObjectId('6460f4b8f4ac4536be7416f7'), 'antecedents': \"['operating', 'system', 'macOS']\", 'conclusion': 'macOS is an operating system developed by Apple Inc. for its Macintosh line of computers.'}\n",
            "{'_id': ObjectId('6460f4b8f4ac4536be7416f9'), 'antecedents': \"['computer', 'security', 'phishing']\", 'conclusion': 'Phishing is a cybercrime where attackers use email or social engineering to trick people into providing sensitive information.'}\n",
            "{'_id': ObjectId('6460f4b8f4ac4536be7416b5'), 'antecedents': \"['Rathod']\", 'conclusion': 'Surname of Pratik'}\n",
            "{'_id': ObjectId('6460f4b8f4ac4536be7416b9'), 'antecedents': \"['file', 'digital']\", 'conclusion': 'The file is a digital object'}\n",
            "{'_id': ObjectId('6460f4b8f4ac4536be7416bc'), 'antecedents': \"['book', 'physical', 'reading material']\", 'conclusion': 'The book is a physical object used for reading'}\n",
            "{'_id': ObjectId('6460f4b8f4ac4536be7416c3'), 'antecedents': \"['encryption', 'AES']\", 'conclusion': 'Advanced Encryption Standard (AES) is a widely-used encryption algorithm'}\n",
            "{'_id': ObjectId('6460f4b8f4ac4536be7416bb'), 'antecedents': \"['forgot']\", 'conclusion': 'reset'}\n",
            "{'_id': ObjectId('6460f4b8f4ac4536be7416cb'), 'antecedents': \"['medicine', 'vaccines']\", 'conclusion': 'Vaccines are an effective way to prevent the spread of infectious diseases.'}\n",
            "{'_id': ObjectId('6460f4b8f4ac4536be7416ed'), 'antecedents': '[\"musician\", \"Beethoven\"]', 'conclusion': 'Beethoven was a German composer and pianist known for his classical music'}\n",
            "{'_id': ObjectId('6460f4b8f4ac4536be7416f3'), 'antecedents': \"['programming', 'C', 'language']\", 'conclusion': 'C is a general-purpose programming language developed by Bell Labs.'}\n",
            "{'_id': ObjectId('6460f4b8f4ac4536be7416b6'), 'antecedents': \"['Vaishnavi','Nevkar']\", 'conclusion': 'Founder of this code'}\n",
            "{'_id': ObjectId('6460f4b8f4ac4536be7416ba'), 'antecedents': \"['user', 'lost', 'password']\", 'conclusion': 'forgot the password'}\n",
            "{'_id': ObjectId('6460f4b8f4ac4536be7416d2'), 'antecedents': '[\"language\", \"Spanish\"]', 'conclusion': 'Spanish is a Romance language spoken by over 500 million people worldwide'}\n",
            "{'_id': ObjectId('6460f4b8f4ac4536be7416fb'), 'antecedents': \"['database', 'MongoDB', 'server']\", 'conclusion': 'MongoDB is a cross-platform document-oriented NoSQL database program.'}\n",
            "{'_id': ObjectId('6460f4b8f4ac4536be7416c5'), 'antecedents': \"['food', 'nutrition']\", 'conclusion': 'A balanced diet is essential for good health.'}\n",
            "{'_id': ObjectId('6460f4b8f4ac4536be7416ef'), 'antecedents': \"['computer', 'security', 'virus']\", 'conclusion': 'A computer virus is a type of malicious software (malware) that can replicate itself and spread from one computer to another.'}\n",
            "{'_id': ObjectId('6460f4b8f4ac4536be7416f2'), 'antecedents': \"['operating', 'system', 'Linux']\", 'conclusion': 'Linux is a free and open-source operating system based on the Unix operating system.'}\n",
            "{'_id': ObjectId('6460f4b8f4ac4536be7416fe'), 'antecedents': \"['computer', 'security', 'malware']\", 'conclusion': 'Malware is a type of software designed to harm or exploit any programmable device, service, or network.'}\n",
            "{'_id': ObjectId('6460f4b8f4ac4536be7416dc'), 'antecedents': '[\"beverage\", \"coffee\"]', 'conclusion': 'Coffee is a brewed beverage made from roasted coffee beans'}\n",
            "{'_id': ObjectId('6460f4b8f4ac4536be7416f0'), 'antecedents': \"['web', 'browser', 'Chrome']\", 'conclusion': 'Google Chrome is a popular web browser developed by Google.'}\n",
            "{'_id': ObjectId('6460f4b8f4ac4536be741701'), 'antecedents': \"['operating', 'system', 'iOS']\", 'conclusion': 'iOS is a mobile operating system created and developed by Apple Inc'}\n",
            "{'_id': ObjectId('6460f4b8f4ac4536be7416b7'), 'antecedents': \"['Pratik', 'Rathod']\", 'conclusion': 'Founder of this code'}\n",
            "{'_id': ObjectId('6460f4b8f4ac4536be7416b3'), 'antecedents': \"['AI']\", 'conclusion': 'It is called as Artificial Intelligence'}\n",
            "{'_id': ObjectId('6460f4b8f4ac4536be7416d1'), 'antecedents': '[\"music\", \"Jazz\"]', 'conclusion': 'Jazz is a genre of music characterized by improvisation and swing rhythms'}\n",
            "{'_id': ObjectId('6460f4b8f4ac4536be7416b8'), 'antecedents': \"['document', 'paper']\", 'conclusion': 'The document is a physical object'}\n",
            "{'_id': ObjectId('6460f4b8f4ac4536be7416ca'), 'antecedents': \"['education', 'online learning']\", 'conclusion': 'Online learning is a flexible and accessible way to obtain education.'}\n",
            "{'_id': ObjectId('6460f4b8f4ac4536be7416d3'), 'antecedents': '[\"sport\", \"tennis\"]', 'conclusion': 'Tennis is a racket sport played between two or four players'}\n",
            "{'_id': ObjectId('6460f4b8f4ac4536be7416e4'), 'antecedents': '[\"season\", \"summer\"]', 'conclusion': 'Summer is the warmest season of the year, typically from June to August in the Northern Hemisphere'}\n",
            "{'_id': ObjectId('6460f4b8f4ac4536be7416f5'), 'antecedents': \"['web', 'server', 'Apache']\", 'conclusion': 'Apache HTTP Server is a free and open-source web server software.'}\n",
            "{'_id': ObjectId('6460f4b8f4ac4536be7416be'), 'antecedents': \"['web', 'HTML']\", 'conclusion': 'Hypertext Markup Language (HTML) is used to create web pages'}\n",
            "{'_id': ObjectId('6460f4b8f4ac4536be7416c0'), 'antecedents': \"['software', 'open source']\", 'conclusion': 'Open source software is licensed in a way that allows users to use, study, and modify it'}\n",
            "{'_id': ObjectId('6460f4b8f4ac4536be7416c6'), 'antecedents': \"['exercise', 'fitness']\", 'conclusion': 'Regular exercise can improve cardiovascular health and overall fitness.'}\n",
            "{'_id': ObjectId('6460f4b8f4ac4536be7416eb'), 'antecedents': '[\"animal\", \"penguin\"]', 'conclusion': 'Penguins are a group of flightless birds found in the Southern Hemisphere'}\n",
            "{'_id': ObjectId('6460f4b8f4ac4536be7416b4'), 'antecedents': \"['Nevkar']\", 'conclusion': 'Surname of Vaishnavi'}\n",
            "{'_id': ObjectId('6460f4b8f4ac4536be7416dd'), 'antecedents': '[\"holiday\", \"Christmas\"]', 'conclusion': 'Christmas is a holiday celebrated on December 25th in many countries around the world'}\n",
            "{'_id': ObjectId('6460f4b8f4ac4536be7416e1'), 'antecedents': '[\"planet\", \"Mars\"]', 'conclusion': 'Mars is the fourth planet from the sun and is known for its red color'}\n",
            "{'_id': ObjectId('6460f4b8f4ac4536be7416e2'), 'antecedents': '[\"board game\", \"Monopoly\"]', 'conclusion': 'Monopoly is a board game where players buy and sell properties to become the richest player'}\n",
            "{'_id': ObjectId('6460f4b8f4ac4536be7416fd'), 'antecedents': \"['programming', 'Python', 'language']\", 'conclusion': 'Python is a high-level programming language known for its readability and simplicity.'}\n",
            "{'_id': ObjectId('6460f4b8f4ac4536be7416cd'), 'antecedents': '[\"car\", \"Tesla\"]', 'conclusion': 'Tesla is an American electric vehicle and clean energy company'}\n",
            "{'_id': ObjectId('6460f4b8f4ac4536be7416de'), 'antecedents': '[\"social media\", \"Facebook\"]', 'conclusion': 'Facebook is a social networking site used to connect with friends and family'}\n",
            "{'_id': ObjectId('6460f4b8f4ac4536be7416e8'), 'antecedents': '[\"language\", \"Mandarin\"]', 'conclusion': 'Mandarin is the most widely spoken language in the world'}\n",
            "{'_id': ObjectId('6460f4b8f4ac4536be7416ea'), 'antecedents': '[\"brand\", \"Adidas\"]', 'conclusion': 'Adidas is a multinational corporation that designs and sells athletic footwear and apparel'}\n",
            "{'_id': ObjectId('6460f4b8f4ac4536be7416f6'), 'antecedents': \"['database', 'Oracle', 'server']\", 'conclusion': 'Oracle Database is a relational database management system (RDBMS) developed by Oracle.'}\n",
            "{'_id': ObjectId('6460f4b8f4ac4536be7416cc'), 'antecedents': \"['travel', 'sustainability']\", 'conclusion': 'Sustainable tourism practices can help reduce the negative impact of travel on the environment.'}\n",
            "{'_id': ObjectId('6460f4b8f4ac4536be7416d0'), 'antecedents': '[\"food\", \"sushi\"]', 'conclusion': 'Sushi is a Japanese dish made with vinegar rice and seafood or vegetables'}\n",
            "{'_id': ObjectId('6460f4b8f4ac4536be7416db'), 'antecedents': '[\"brand\", \"Nike\"]', 'conclusion': 'Nike is a multinational corporation that designs and sells athletic footwear and apparel'}\n",
            "{'_id': ObjectId('6460f4b8f4ac4536be7416fc'), 'antecedents': \"['operating', 'system', 'Unix']\", 'conclusion': 'Unix is a family of multitasking, multiuser computer operating systems.'}\n",
            "{'_id': ObjectId('6460f4b8f4ac4536be7416c8'), 'antecedents': \"['environment', 'climate change']\", 'conclusion': 'Climate change is a pressing environmental issue that requires immediate action.'}\n",
            "{'_id': ObjectId('6460f4b8f4ac4536be7416e6'), 'antecedents': '[\"fruit\", \"strawberry\"]', 'conclusion': 'Strawberries are a sweet and juicy fruit often used in desserts and smoothies'}\n",
            "{'_id': ObjectId('6460f4b8f4ac4536be7416ec'), 'antecedents': '[\"country\", \"Japan\"]', 'conclusion': 'Japan is an island country in East Asia known for its technology, food, and culture'}\n",
            "{'_id': ObjectId('6460f4b8f4ac4536be7416ee'), 'antecedents': '[\"color\", \"green\"]', 'conclusion': 'Green'}\n"
          ]
        }
      ]
    },
    {
      "cell_type": "code",
      "source": [
        "# document = {\"name\": \"Pratik\", \"age\": 25}\n",
        "# result = col.insert_one(document)\n",
        "\n",
        "# # Print the ID of the inserted document\n",
        "# print(\"Inserted document ID:\", result.inserted_id)"
      ],
      "metadata": {
        "colab": {
          "base_uri": "https://localhost:8080/"
        },
        "id": "KpMHrW3zsvmz",
        "outputId": "bd4910de-9b26-40fa-b5e1-c8f14c63b092"
      },
      "execution_count": null,
      "outputs": [
        {
          "output_type": "stream",
          "name": "stdout",
          "text": [
            "Inserted document ID: 646105a38b27332041093c23\n"
          ]
        }
      ]
    },
    {
      "cell_type": "code",
      "source": [
        "col.delete_one({'name':'Pratik'})\n",
        "col.find()\n",
        "# col.delete_one({'name':'Pratik'})\n",
        "# col.find().pretty()\n",
        "\n",
        "# show dbs\n",
        "# Here's an example code snippet to use col.find() to print all the documents in the collection:\n",
        "\n",
        "# javascript\n",
        "# Copy code\n",
        "for document in col.find():\n",
        "    print(document)\n"
      ],
      "metadata": {
        "colab": {
          "base_uri": "https://localhost:8080/"
        },
        "id": "YA9u8XoxtiX6",
        "outputId": "335f913f-0d25-4bf1-fe86-6f4922185a8c"
      },
      "execution_count": null,
      "outputs": [
        {
          "output_type": "stream",
          "name": "stdout",
          "text": [
            "{'_id': ObjectId('6460f4b8f4ac4536be7416b3'), 'antecedents': \"['AI']\", 'conclusion': 'It is called as Artificial Intelligence'}\n",
            "{'_id': ObjectId('6460f4b8f4ac4536be7416b4'), 'antecedents': \"['Nevkar']\", 'conclusion': 'Surname of Vaishnavi'}\n",
            "{'_id': ObjectId('6460f4b8f4ac4536be7416b5'), 'antecedents': \"['Rathod']\", 'conclusion': 'Surname of Pratik'}\n",
            "{'_id': ObjectId('6460f4b8f4ac4536be7416b6'), 'antecedents': \"['Vaishnavi','Nevkar']\", 'conclusion': 'Founder of this code'}\n",
            "{'_id': ObjectId('6460f4b8f4ac4536be7416b7'), 'antecedents': \"['Pratik', 'Rathod']\", 'conclusion': 'Founder of this code'}\n",
            "{'_id': ObjectId('6460f4b8f4ac4536be7416b8'), 'antecedents': \"['document', 'paper']\", 'conclusion': 'The document is a physical object'}\n",
            "{'_id': ObjectId('6460f4b8f4ac4536be7416b9'), 'antecedents': \"['file', 'digital']\", 'conclusion': 'The file is a digital object'}\n",
            "{'_id': ObjectId('6460f4b8f4ac4536be7416ba'), 'antecedents': \"['user', 'lost', 'password']\", 'conclusion': 'forgot the password'}\n",
            "{'_id': ObjectId('6460f4b8f4ac4536be7416bb'), 'antecedents': \"['forgot']\", 'conclusion': 'reset'}\n",
            "{'_id': ObjectId('6460f4b8f4ac4536be7416bc'), 'antecedents': \"['book', 'physical', 'reading material']\", 'conclusion': 'The book is a physical object used for reading'}\n",
            "{'_id': ObjectId('6460f4b8f4ac4536be7416bd'), 'antecedents': \"['database', 'SQL']\", 'conclusion': 'Structured Query Language (SQL) is used to manage databases'}\n",
            "{'_id': ObjectId('6460f4b8f4ac4536be7416be'), 'antecedents': \"['web', 'HTML']\", 'conclusion': 'Hypertext Markup Language (HTML) is used to create web pages'}\n",
            "{'_id': ObjectId('6460f4b8f4ac4536be7416bf'), 'antecedents': \"['computer', 'memory']\", 'conclusion': 'Random Access Memory (RAM) is used to store data temporarily'}\n",
            "{'_id': ObjectId('6460f4b8f4ac4536be7416c0'), 'antecedents': \"['software', 'open source']\", 'conclusion': 'Open source software is licensed in a way that allows users to use, study, and modify it'}\n",
            "{'_id': ObjectId('6460f4b8f4ac4536be7416c1'), 'antecedents': \"['operating system', 'Linux']\", 'conclusion': 'Linux is an open source operating system'}\n",
            "{'_id': ObjectId('6460f4b8f4ac4536be7416c2'), 'antecedents': \"['network', 'IP address']\", 'conclusion': 'An IP address is a unique identifier assigned to devices on a network'}\n",
            "{'_id': ObjectId('6460f4b8f4ac4536be7416c3'), 'antecedents': \"['encryption', 'AES']\", 'conclusion': 'Advanced Encryption Standard (AES) is a widely-used encryption algorithm'}\n",
            "{'_id': ObjectId('6460f4b8f4ac4536be7416c4'), 'antecedents': \"['programming', 'Python']\", 'conclusion': 'Python is a popular programming language known for its simplicity and readability'}\n",
            "{'_id': ObjectId('6460f4b8f4ac4536be7416c5'), 'antecedents': \"['food', 'nutrition']\", 'conclusion': 'A balanced diet is essential for good health.'}\n",
            "{'_id': ObjectId('6460f4b8f4ac4536be7416c6'), 'antecedents': \"['exercise', 'fitness']\", 'conclusion': 'Regular exercise can improve cardiovascular health and overall fitness.'}\n",
            "{'_id': ObjectId('6460f4b8f4ac4536be7416c7'), 'antecedents': \"['finance', 'budgeting']\", 'conclusion': 'Budgeting is an important skill for managing personal finances.'}\n",
            "{'_id': ObjectId('6460f4b8f4ac4536be7416c8'), 'antecedents': \"['environment', 'climate change']\", 'conclusion': 'Climate change is a pressing environmental issue that requires immediate action.'}\n",
            "{'_id': ObjectId('6460f4b8f4ac4536be7416c9'), 'antecedents': \"['technology', 'artificial intelligence']\", 'conclusion': 'Artificial intelligence has the potential to revolutionize various industries.'}\n",
            "{'_id': ObjectId('6460f4b8f4ac4536be7416ca'), 'antecedents': \"['education', 'online learning']\", 'conclusion': 'Online learning is a flexible and accessible way to obtain education.'}\n",
            "{'_id': ObjectId('6460f4b8f4ac4536be7416cb'), 'antecedents': \"['medicine', 'vaccines']\", 'conclusion': 'Vaccines are an effective way to prevent the spread of infectious diseases.'}\n",
            "{'_id': ObjectId('6460f4b8f4ac4536be7416cc'), 'antecedents': \"['travel', 'sustainability']\", 'conclusion': 'Sustainable tourism practices can help reduce the negative impact of travel on the environment.'}\n",
            "{'_id': ObjectId('6460f4b8f4ac4536be7416cd'), 'antecedents': '[\"car\", \"Tesla\"]', 'conclusion': 'Tesla is an American electric vehicle and clean energy company'}\n",
            "{'_id': ObjectId('6460f4b8f4ac4536be7416ce'), 'antecedents': '[\"mobile phone\", \"Apple\"]', 'conclusion': 'Apple is a technology company that produces the iPhone'}\n",
            "{'_id': ObjectId('6460f4b8f4ac4536be7416cf'), 'antecedents': '[\"social media\", \"Twitter\"]', 'conclusion': 'Twitter is a social media platform used to share short messages'}\n",
            "{'_id': ObjectId('6460f4b8f4ac4536be7416d0'), 'antecedents': '[\"food\", \"sushi\"]', 'conclusion': 'Sushi is a Japanese dish made with vinegar rice and seafood or vegetables'}\n",
            "{'_id': ObjectId('6460f4b8f4ac4536be7416d1'), 'antecedents': '[\"music\", \"Jazz\"]', 'conclusion': 'Jazz is a genre of music characterized by improvisation and swing rhythms'}\n",
            "{'_id': ObjectId('6460f4b8f4ac4536be7416d2'), 'antecedents': '[\"language\", \"Spanish\"]', 'conclusion': 'Spanish is a Romance language spoken by over 500 million people worldwide'}\n",
            "{'_id': ObjectId('6460f4b8f4ac4536be7416d3'), 'antecedents': '[\"sport\", \"tennis\"]', 'conclusion': 'Tennis is a racket sport played between two or four players'}\n",
            "{'_id': ObjectId('6460f4b8f4ac4536be7416d4'), 'antecedents': '[\"movie\", \"The Godfather\"]', 'conclusion': 'The Godfather is a classic American crime film directed by Francis Ford Coppola'}\n",
            "{'_id': ObjectId('6460f4b8f4ac4536be7416d5'), 'antecedents': '[\"book\", \"To Kill a Mockingbird\"]', 'conclusion': 'To Kill a Mockingbird is a novel written by Harper Lee'}\n",
            "{'_id': ObjectId('6460f4b8f4ac4536be7416d6'), 'antecedents': '[\"animal\", \"panda\"]', 'conclusion': 'Pandas are a species of bear native to China'}\n",
            "{'_id': ObjectId('6460f4b8f4ac4536be7416d7'), 'antecedents': '[\"video game\", \"Minecraft\"]', 'conclusion': 'Minecraft is a popular sandbox video game that allows players to build and explore virtual worlds'}\n",
            "{'_id': ObjectId('6460f4b8f4ac4536be7416d8'), 'antecedents': '[\"fruit\", \"banana\"]', 'conclusion': 'Bananas are a common fruit known for their high potassium content'}\n",
            "{'_id': ObjectId('6460f4b8f4ac4536be7416d9'), 'antecedents': '[\"celebrity\", \"Beyonce\"]', 'conclusion': 'Beyonce is an American singer, songwriter, and actress'}\n",
            "{'_id': ObjectId('6460f4b8f4ac4536be7416da'), 'antecedents': '[\"city\", \"Paris\"]', 'conclusion': 'Paris is the capital city of France, known for its art, culture, and cuisine'}\n",
            "{'_id': ObjectId('6460f4b8f4ac4536be7416db'), 'antecedents': '[\"brand\", \"Nike\"]', 'conclusion': 'Nike is a multinational corporation that designs and sells athletic footwear and apparel'}\n",
            "{'_id': ObjectId('6460f4b8f4ac4536be7416dc'), 'antecedents': '[\"beverage\", \"coffee\"]', 'conclusion': 'Coffee is a brewed beverage made from roasted coffee beans'}\n",
            "{'_id': ObjectId('6460f4b8f4ac4536be7416dd'), 'antecedents': '[\"holiday\", \"Christmas\"]', 'conclusion': 'Christmas is a holiday celebrated on December 25th in many countries around the world'}\n",
            "{'_id': ObjectId('6460f4b8f4ac4536be7416de'), 'antecedents': '[\"social media\", \"Facebook\"]', 'conclusion': 'Facebook is a social networking site used to connect with friends and family'}\n",
            "{'_id': ObjectId('6460f4b8f4ac4536be7416df'), 'antecedents': '[\"color\", \"blue\"]', 'conclusion': 'Blue is a primary color often associated with calmness and tranquility'}\n",
            "{'_id': ObjectId('6460f4b8f4ac4536be7416e0'), 'antecedents': '[\"vehicle\", \"bicycle\"]', 'conclusion': 'A bicycle is a human-powered vehicle with two wheels'}\n",
            "{'_id': ObjectId('6460f4b8f4ac4536be7416e1'), 'antecedents': '[\"planet\", \"Mars\"]', 'conclusion': 'Mars is the fourth planet from the sun and is known for its red color'}\n",
            "{'_id': ObjectId('6460f4b8f4ac4536be7416e2'), 'antecedents': '[\"board game\", \"Monopoly\"]', 'conclusion': 'Monopoly is a board game where players buy and sell properties to become the richest player'}\n",
            "{'_id': ObjectId('6460f4b8f4ac4536be7416e3'), 'antecedents': '[\"restaurant\", \"McDonald\\'s\"]', 'conclusion': \"McDonald's is a fast food restaurant chain known for its burgers and fries\"}\n",
            "{'_id': ObjectId('6460f4b8f4ac4536be7416e4'), 'antecedents': '[\"season\", \"summer\"]', 'conclusion': 'Summer is the warmest season of the year, typically from June to August in the Northern Hemisphere'}\n",
            "{'_id': ObjectId('6460f4b8f4ac4536be7416e5'), 'antecedents': '[\"book\", \"1984\"]', 'conclusion': '1984 is a dystopian novel written by George Orwell'}\n",
            "{'_id': ObjectId('6460f4b8f4ac4536be7416e6'), 'antecedents': '[\"fruit\", \"strawberry\"]', 'conclusion': 'Strawberries are a sweet and juicy fruit often used in desserts and smoothies'}\n",
            "{'_id': ObjectId('6460f4b8f4ac4536be7416e7'), 'antecedents': '[\"TV show\", \"Breaking Bad\"]', 'conclusion': 'Breaking Bad is a popular American television drama series about a high school chemistry teacher turned drug dealer'}\n",
            "{'_id': ObjectId('6460f4b8f4ac4536be7416e8'), 'antecedents': '[\"language\", \"Mandarin\"]', 'conclusion': 'Mandarin is the most widely spoken language in the world'}\n",
            "{'_id': ObjectId('6460f4b8f4ac4536be7416e9'), 'antecedents': '[\"sport\", \"soccer\"]', 'conclusion': 'Soccer, also known as football, is a popular sport played worldwide'}\n",
            "{'_id': ObjectId('6460f4b8f4ac4536be7416ea'), 'antecedents': '[\"brand\", \"Adidas\"]', 'conclusion': 'Adidas is a multinational corporation that designs and sells athletic footwear and apparel'}\n",
            "{'_id': ObjectId('6460f4b8f4ac4536be7416eb'), 'antecedents': '[\"animal\", \"penguin\"]', 'conclusion': 'Penguins are a group of flightless birds found in the Southern Hemisphere'}\n",
            "{'_id': ObjectId('6460f4b8f4ac4536be7416ec'), 'antecedents': '[\"country\", \"Japan\"]', 'conclusion': 'Japan is an island country in East Asia known for its technology, food, and culture'}\n",
            "{'_id': ObjectId('6460f4b8f4ac4536be7416ed'), 'antecedents': '[\"musician\", \"Beethoven\"]', 'conclusion': 'Beethoven was a German composer and pianist known for his classical music'}\n",
            "{'_id': ObjectId('6460f4b8f4ac4536be7416ee'), 'antecedents': '[\"color\", \"green\"]', 'conclusion': 'Green'}\n",
            "{'_id': ObjectId('6460f4b8f4ac4536be7416ef'), 'antecedents': \"['computer', 'security', 'virus']\", 'conclusion': 'A computer virus is a type of malicious software (malware) that can replicate itself and spread from one computer to another.'}\n",
            "{'_id': ObjectId('6460f4b8f4ac4536be7416f0'), 'antecedents': \"['web', 'browser', 'Chrome']\", 'conclusion': 'Google Chrome is a popular web browser developed by Google.'}\n",
            "{'_id': ObjectId('6460f4b8f4ac4536be7416f1'), 'antecedents': \"['database', 'MySQL', 'server']\", 'conclusion': 'MySQL is an open-source relational database management system (RDBMS) developed by Oracle.'}\n",
            "{'_id': ObjectId('6460f4b8f4ac4536be7416f2'), 'antecedents': \"['operating', 'system', 'Linux']\", 'conclusion': 'Linux is a free and open-source operating system based on the Unix operating system.'}\n",
            "{'_id': ObjectId('6460f4b8f4ac4536be7416f3'), 'antecedents': \"['programming', 'C', 'language']\", 'conclusion': 'C is a general-purpose programming language developed by Bell Labs.'}\n",
            "{'_id': ObjectId('6460f4b8f4ac4536be7416f4'), 'antecedents': \"['computer', 'memory', 'RAM']\", 'conclusion': 'Random Access Memory (RAM) is a type of computer memory that can be accessed randomly.'}\n",
            "{'_id': ObjectId('6460f4b8f4ac4536be7416f5'), 'antecedents': \"['web', 'server', 'Apache']\", 'conclusion': 'Apache HTTP Server is a free and open-source web server software.'}\n",
            "{'_id': ObjectId('6460f4b8f4ac4536be7416f6'), 'antecedents': \"['database', 'Oracle', 'server']\", 'conclusion': 'Oracle Database is a relational database management system (RDBMS) developed by Oracle.'}\n",
            "{'_id': ObjectId('6460f4b8f4ac4536be7416f7'), 'antecedents': \"['operating', 'system', 'macOS']\", 'conclusion': 'macOS is an operating system developed by Apple Inc. for its Macintosh line of computers.'}\n",
            "{'_id': ObjectId('6460f4b8f4ac4536be7416f8'), 'antecedents': \"['programming', 'JavaScript', 'language']\", 'conclusion': 'JavaScript is a high-level programming language used primarily for creating dynamic and interactive web pages.'}\n",
            "{'_id': ObjectId('6460f4b8f4ac4536be7416f9'), 'antecedents': \"['computer', 'security', 'phishing']\", 'conclusion': 'Phishing is a cybercrime where attackers use email or social engineering to trick people into providing sensitive information.'}\n",
            "{'_id': ObjectId('6460f4b8f4ac4536be7416fa'), 'antecedents': \"['web', 'server', 'Nginx']\", 'conclusion': 'Nginx is a free and open-source web server software.'}\n",
            "{'_id': ObjectId('6460f4b8f4ac4536be7416fb'), 'antecedents': \"['database', 'MongoDB', 'server']\", 'conclusion': 'MongoDB is a cross-platform document-oriented NoSQL database program.'}\n",
            "{'_id': ObjectId('6460f4b8f4ac4536be7416fc'), 'antecedents': \"['operating', 'system', 'Unix']\", 'conclusion': 'Unix is a family of multitasking, multiuser computer operating systems.'}\n",
            "{'_id': ObjectId('6460f4b8f4ac4536be7416fd'), 'antecedents': \"['programming', 'Python', 'language']\", 'conclusion': 'Python is a high-level programming language known for its readability and simplicity.'}\n",
            "{'_id': ObjectId('6460f4b8f4ac4536be7416fe'), 'antecedents': \"['computer', 'security', 'malware']\", 'conclusion': 'Malware is a type of software designed to harm or exploit any programmable device, service, or network.'}\n",
            "{'_id': ObjectId('6460f4b8f4ac4536be7416ff'), 'antecedents': \"['web', 'server', 'IIS']\", 'conclusion': 'Internet Information Services (IIS) is a web server software created by Microsoft.'}\n",
            "{'_id': ObjectId('6460f4b8f4ac4536be741700'), 'antecedents': \"['database', 'PostgreSQL', 'server']\", 'conclusion': 'PostgreSQL is an open-source relational database management system (RDBMS).'}\n",
            "{'_id': ObjectId('6460f4b8f4ac4536be741701'), 'antecedents': \"['operating', 'system', 'iOS']\", 'conclusion': 'iOS is a mobile operating system created and developed by Apple Inc'}\n"
          ]
        }
      ]
    },
    {
      "cell_type": "code",
      "source": [
        "\n"
      ],
      "metadata": {
        "id": "_Rv8IKJXuHZu"
      },
      "execution_count": null,
      "outputs": []
    },
    {
      "cell_type": "code",
      "source": [],
      "metadata": {
        "colab": {
          "base_uri": "https://localhost:8080/"
        },
        "id": "ro9-ugeTu1XC",
        "outputId": "9690b612-f1ae-4877-8059-44f7a2ec58e3"
      },
      "execution_count": null,
      "outputs": [
        {
          "output_type": "execute_result",
          "data": {
            "text/plain": [
              "<pymongo.results.InsertManyResult at 0x7fa0c10f9cf0>"
            ]
          },
          "metadata": {},
          "execution_count": 34
        }
      ]
    },
    {
      "cell_type": "code",
      "source": [],
      "metadata": {
        "id": "BUM-4rXzxIfM"
      },
      "execution_count": null,
      "outputs": []
    },
    {
      "cell_type": "code",
      "source": [],
      "metadata": {
        "id": "mezIr9N-hdN0"
      },
      "execution_count": null,
      "outputs": []
    },
    {
      "cell_type": "code",
      "source": [],
      "metadata": {
        "id": "eWBXgxEzebPM"
      },
      "execution_count": null,
      "outputs": []
    },
    {
      "cell_type": "code",
      "source": [],
      "metadata": {
        "id": "64tONCGadqyL"
      },
      "execution_count": null,
      "outputs": []
    }
  ]
}